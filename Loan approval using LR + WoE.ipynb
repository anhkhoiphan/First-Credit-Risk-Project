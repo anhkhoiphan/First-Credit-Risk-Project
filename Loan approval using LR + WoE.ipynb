{
 "cells": [
  {
   "cell_type": "code",
   "execution_count": 1,
   "id": "30d95225",
   "metadata": {},
   "outputs": [],
   "source": [
    "import pandas as pd\n",
    "import numpy as np\n",
    "import matplotlib.pyplot as plt\n",
    "import seaborn as sns\n",
    "from sklearn.model_selection import train_test_split\n",
    "from sklearn.ensemble import RandomForestClassifier\n",
    "from sklearn.linear_model import LogisticRegression\n",
    "from sklearn.tree import DecisionTreeClassifier\n",
    "from sklearn.neighbors import KNeighborsClassifier\n",
    "from sklearn.ensemble import RandomForestClassifier\n",
    "from sklearn.discriminant_analysis import LinearDiscriminantAnalysis\n",
    "from sklearn.naive_bayes import GaussianNB\n",
    "from sklearn.svm import SVC\n",
    "from xgboost import XGBClassifier\n",
    "# from sklearn.metrics import f1_score\n",
    "from sklearn.metrics import roc_auc_score\n",
    "from sklearn.metrics import accuracy_score\n",
    "from sklearn.metrics import recall_score\n",
    "from sklearn.model_selection import cross_val_score"
   ]
  },
  {
   "cell_type": "markdown",
   "id": "d78a7185",
   "metadata": {},
   "source": [
    "## Loading the dataset"
   ]
  },
  {
   "cell_type": "code",
   "execution_count": 2,
   "id": "11e3caff",
   "metadata": {},
   "outputs": [
    {
     "data": {
      "text/html": [
       "<div>\n",
       "<style scoped>\n",
       "    .dataframe tbody tr th:only-of-type {\n",
       "        vertical-align: middle;\n",
       "    }\n",
       "\n",
       "    .dataframe tbody tr th {\n",
       "        vertical-align: top;\n",
       "    }\n",
       "\n",
       "    .dataframe thead th {\n",
       "        text-align: right;\n",
       "    }\n",
       "</style>\n",
       "<table border=\"1\" class=\"dataframe\">\n",
       "  <thead>\n",
       "    <tr style=\"text-align: right;\">\n",
       "      <th></th>\n",
       "      <th>Unnamed: 0</th>\n",
       "      <th>Age</th>\n",
       "      <th>Sex</th>\n",
       "      <th>Job</th>\n",
       "      <th>Housing</th>\n",
       "      <th>Saving accounts</th>\n",
       "      <th>Checking account</th>\n",
       "      <th>Credit amount</th>\n",
       "      <th>Duration</th>\n",
       "      <th>Purpose</th>\n",
       "      <th>Risk</th>\n",
       "    </tr>\n",
       "  </thead>\n",
       "  <tbody>\n",
       "    <tr>\n",
       "      <th>0</th>\n",
       "      <td>0</td>\n",
       "      <td>67</td>\n",
       "      <td>male</td>\n",
       "      <td>2</td>\n",
       "      <td>own</td>\n",
       "      <td>NaN</td>\n",
       "      <td>little</td>\n",
       "      <td>1169</td>\n",
       "      <td>6</td>\n",
       "      <td>radio/TV</td>\n",
       "      <td>good</td>\n",
       "    </tr>\n",
       "    <tr>\n",
       "      <th>1</th>\n",
       "      <td>1</td>\n",
       "      <td>22</td>\n",
       "      <td>female</td>\n",
       "      <td>2</td>\n",
       "      <td>own</td>\n",
       "      <td>little</td>\n",
       "      <td>moderate</td>\n",
       "      <td>5951</td>\n",
       "      <td>48</td>\n",
       "      <td>radio/TV</td>\n",
       "      <td>bad</td>\n",
       "    </tr>\n",
       "    <tr>\n",
       "      <th>2</th>\n",
       "      <td>2</td>\n",
       "      <td>49</td>\n",
       "      <td>male</td>\n",
       "      <td>1</td>\n",
       "      <td>own</td>\n",
       "      <td>little</td>\n",
       "      <td>NaN</td>\n",
       "      <td>2096</td>\n",
       "      <td>12</td>\n",
       "      <td>education</td>\n",
       "      <td>good</td>\n",
       "    </tr>\n",
       "    <tr>\n",
       "      <th>3</th>\n",
       "      <td>3</td>\n",
       "      <td>45</td>\n",
       "      <td>male</td>\n",
       "      <td>2</td>\n",
       "      <td>free</td>\n",
       "      <td>little</td>\n",
       "      <td>little</td>\n",
       "      <td>7882</td>\n",
       "      <td>42</td>\n",
       "      <td>furniture/equipment</td>\n",
       "      <td>good</td>\n",
       "    </tr>\n",
       "    <tr>\n",
       "      <th>4</th>\n",
       "      <td>4</td>\n",
       "      <td>53</td>\n",
       "      <td>male</td>\n",
       "      <td>2</td>\n",
       "      <td>free</td>\n",
       "      <td>little</td>\n",
       "      <td>little</td>\n",
       "      <td>4870</td>\n",
       "      <td>24</td>\n",
       "      <td>car</td>\n",
       "      <td>bad</td>\n",
       "    </tr>\n",
       "  </tbody>\n",
       "</table>\n",
       "</div>"
      ],
      "text/plain": [
       "   Unnamed: 0  Age     Sex  Job Housing Saving accounts Checking account  \\\n",
       "0           0   67    male    2     own             NaN           little   \n",
       "1           1   22  female    2     own          little         moderate   \n",
       "2           2   49    male    1     own          little              NaN   \n",
       "3           3   45    male    2    free          little           little   \n",
       "4           4   53    male    2    free          little           little   \n",
       "\n",
       "   Credit amount  Duration              Purpose  Risk  \n",
       "0           1169         6             radio/TV  good  \n",
       "1           5951        48             radio/TV   bad  \n",
       "2           2096        12            education  good  \n",
       "3           7882        42  furniture/equipment  good  \n",
       "4           4870        24                  car   bad  "
      ]
     },
     "execution_count": 2,
     "metadata": {},
     "output_type": "execute_result"
    }
   ],
   "source": [
    "data = pd.read_csv(\"D:\\\\Data\\\\german_credit_data.csv\")\n",
    "data.head()"
   ]
  },
  {
   "cell_type": "markdown",
   "id": "e28c6b90",
   "metadata": {},
   "source": [
    "Age (numeric)<br>\n",
    "Sex (text: male, female)<br>\n",
    "Job (numeric: 0 - unskilled and non-resident, 1 - unskilled and resident, 2 - skilled, 3 - highly skilled)<br>\n",
    "Housing (text: own, rent, or free)<br>\n",
    "Saving accounts (text - little, moderate, quite rich, rich)<br>\n",
    "Checking account (numeric, in DM - Deutsch Mark)<br>\n",
    "Credit amount (numeric, in DM)<br>\n",
    "Duration (numeric, in month)<br>\n",
    "Purpose(text: car, furniture/equipment, radio/TV, domestic appliances, repairs, education, business, vacation/others<br>\n",
    "Risk (Value target - Good or Bad Risk)<br>"
   ]
  },
  {
   "cell_type": "code",
   "execution_count": 3,
   "id": "dafa27ae",
   "metadata": {},
   "outputs": [],
   "source": [
    "data.drop(data[data['Purpose'] == 'business'].index, inplace=True)"
   ]
  },
  {
   "cell_type": "markdown",
   "id": "715ef4f8",
   "metadata": {},
   "source": [
    "## EDA"
   ]
  },
  {
   "cell_type": "code",
   "execution_count": 4,
   "id": "3aacd3a3",
   "metadata": {},
   "outputs": [
    {
     "data": {
      "text/plain": [
       "(903, 11)"
      ]
     },
     "execution_count": 4,
     "metadata": {},
     "output_type": "execute_result"
    }
   ],
   "source": [
    "data.shape"
   ]
  },
  {
   "cell_type": "markdown",
   "id": "34923dc0",
   "metadata": {},
   "source": [
    "Dataset consists of 1000 observations and 11 columns"
   ]
  },
  {
   "cell_type": "code",
   "execution_count": 5,
   "id": "081ee59e",
   "metadata": {},
   "outputs": [
    {
     "data": {
      "text/plain": [
       "0"
      ]
     },
     "execution_count": 5,
     "metadata": {},
     "output_type": "execute_result"
    }
   ],
   "source": [
    "data.duplicated().sum()"
   ]
  },
  {
   "cell_type": "markdown",
   "id": "1101cc59",
   "metadata": {},
   "source": [
    "No duplicated rows"
   ]
  },
  {
   "cell_type": "code",
   "execution_count": 6,
   "id": "3838e9b4",
   "metadata": {},
   "outputs": [
    {
     "name": "stdout",
     "output_type": "stream",
     "text": [
      "<class 'pandas.core.frame.DataFrame'>\n",
      "Int64Index: 903 entries, 0 to 999\n",
      "Data columns (total 11 columns):\n",
      " #   Column            Non-Null Count  Dtype \n",
      "---  ------            --------------  ----- \n",
      " 0   Unnamed: 0        903 non-null    int64 \n",
      " 1   Age               903 non-null    int64 \n",
      " 2   Sex               903 non-null    object\n",
      " 3   Job               903 non-null    int64 \n",
      " 4   Housing           903 non-null    object\n",
      " 5   Saving accounts   734 non-null    object\n",
      " 6   Checking account  546 non-null    object\n",
      " 7   Credit amount     903 non-null    int64 \n",
      " 8   Duration          903 non-null    int64 \n",
      " 9   Purpose           903 non-null    object\n",
      " 10  Risk              903 non-null    object\n",
      "dtypes: int64(5), object(6)\n",
      "memory usage: 84.7+ KB\n"
     ]
    }
   ],
   "source": [
    "data.info()"
   ]
  },
  {
   "cell_type": "markdown",
   "id": "8e72ca83",
   "metadata": {},
   "source": [
    "### Functions"
   ]
  },
  {
   "cell_type": "code",
   "execution_count": 7,
   "id": "a5e8041f",
   "metadata": {},
   "outputs": [],
   "source": [
    "# Class for analysis\n",
    "class StatisticAnalysis:\n",
    "    def __init__(self, data): # truyền vào data là cả cái dataset luôn\n",
    "        self.data = data\n",
    "        \n",
    "    \n",
    "    def check_null(self, width=12, height=5):\n",
    "        print(self.data.isnull().sum())\n",
    "\n",
    "        null_df = self.data.isnull().sum()/self.data.shape[0] * 100\n",
    "        null_df = null_df[null_df != 0].sort_values(ascending=False).reset_index()\n",
    "        null_df.columns = ['feature', 'null_percentage']\n",
    "        plt.figure(figsize=(width,height))\n",
    "        sns.barplot(x = null_df['null_percentage'], y= null_df['feature'],\n",
    "                    palette='coolwarm');\n",
    "        plt.title('Null percentage per column', fontsize=20)\n",
    "        plt.show()\n",
    "        \n",
    "\n",
    "    def correlation(self, width = 12, height = 10, drop_cols = None):\n",
    "        num_df = self.data._get_numeric_data()\n",
    "        if drop_cols != None:\n",
    "            num_df.drop(columns=drop_cols, inplace=True)\n",
    "        corr_matrix = num_df.corr()\n",
    "        plt.figure(figsize=(width, height))\n",
    "        sns.heatmap(corr_matrix, cmap='coolwarm', annot=True, \n",
    "                    fmt=\".2f\", linewidths=0.5,\n",
    "                    mask=np.triu(np.ones_like(corr_matrix, dtype=bool))\n",
    "        )\n",
    "        plt.title('Correlation Heatmap')\n",
    "        plt.show()"
   ]
  },
  {
   "cell_type": "code",
   "execution_count": 8,
   "id": "19b86761",
   "metadata": {},
   "outputs": [],
   "source": [
    "class UnivariateAnalysis:\n",
    "    def __init__(self, data): # truyền vào cả dataframe\n",
    "        self.data = data\n",
    "        # self.cnt = self.data.value_counts()\n",
    "    \n",
    "    def visualize(self, x = str, width=20, height=8, rotate = None):\n",
    "        '''\n",
    "            use for categorical variables only\n",
    "            + x là tên cột muốn visualize, x là cột có datatype dạng object\n",
    "        '''\n",
    "        fig, (ax1, ax2) = plt.subplots(1, 2, figsize=(width, height))\n",
    "        # color = sns.color_palette('Set3', len(self.cnt))\n",
    "        self.cnt = self.data[x].value_counts()\n",
    "        ax1.pie(self.cnt, autopct='%.2f%%', labels=self.cnt.index)\n",
    "\n",
    "        ax2.bar(self.cnt.index, self.cnt.values)\n",
    "        if rotate != None:\n",
    "            for tick in ax2.get_xticklabels():\n",
    "                tick.set_rotation(rotate)\n",
    "        if self.data[x].nunique() == 2:\n",
    "            if 0 in self.data[x].unique() and 1 in self.data[x].unique():\n",
    "                ax2.set_xticks([0,1])\n",
    "                ax2.set_xticklabels(self.cnt.index)\n",
    "        plt.suptitle(f'Distribution of {x}')\n",
    "        plt.show()\n",
    "\n",
    "    def visualize_numeric(self, x = str, width=20, height=10, kde=False, common_bins=False):\n",
    "        print(self.data[x].describe())\n",
    "        fig, (ax1, ax2) = plt.subplots(2, 1, figsize=(width, height))\n",
    "        sns.histplot(data=self.data, x=x, ax=ax1, kde=kde, common_bins=common_bins)\n",
    "        sns.boxplot(data=self.data, x=x, ax=ax2)\n",
    "        fig.suptitle(f'Distribution of {x}')\n",
    "        plt.show()"
   ]
  },
  {
   "cell_type": "code",
   "execution_count": 9,
   "id": "47136cc0",
   "metadata": {},
   "outputs": [],
   "source": [
    "stat_analysis = StatisticAnalysis(data)"
   ]
  },
  {
   "cell_type": "markdown",
   "id": "e1bd0b63",
   "metadata": {},
   "source": [
    "### Number of null values each column"
   ]
  },
  {
   "cell_type": "code",
   "execution_count": 10,
   "id": "ad13abf9",
   "metadata": {},
   "outputs": [
    {
     "name": "stdout",
     "output_type": "stream",
     "text": [
      "Unnamed: 0            0\n",
      "Age                   0\n",
      "Sex                   0\n",
      "Job                   0\n",
      "Housing               0\n",
      "Saving accounts     169\n",
      "Checking account    357\n",
      "Credit amount         0\n",
      "Duration              0\n",
      "Purpose               0\n",
      "Risk                  0\n",
      "dtype: int64\n"
     ]
    },
    {
     "data": {
      "image/png": "[encoded data removed]",
      "text/plain": [
       "<Figure size 864x360 with 1 Axes>"
      ]
     },
     "metadata": {
      "needs_background": "light"
     },
     "output_type": "display_data"
    }
   ],
   "source": [
    "stat_analysis.check_null()"
   ]
  },
  {
   "cell_type": "markdown",
   "id": "c380fa4c",
   "metadata": {},
   "source": [
    "There are null values in checking account and Saving account columns, account for about 39% and 18% respectively"
   ]
  },
  {
   "cell_type": "markdown",
   "id": "32744d52",
   "metadata": {},
   "source": [
    "### Check for multicollinearity"
   ]
  },
  {
   "cell_type": "code",
   "execution_count": 11,
   "id": "edf860b5",
   "metadata": {},
   "outputs": [
    {
     "data": {
      "image/png": "[encoded data removed]",
      "text/plain": [
       "<Figure size 864x720 with 2 Axes>"
      ]
     },
     "metadata": {
      "needs_background": "light"
     },
     "output_type": "display_data"
    }
   ],
   "source": [
    "stat_analysis.correlation()"
   ]
  },
  {
   "cell_type": "markdown",
   "id": "a51100c2",
   "metadata": {},
   "source": [
    "There are no multicollinearity in the dataset. It seems to be the higher the credit amount, the higher the duration"
   ]
  },
  {
   "cell_type": "markdown",
   "id": "6f49f364",
   "metadata": {},
   "source": [
    "### Target \"Risk\""
   ]
  },
  {
   "cell_type": "code",
   "execution_count": 12,
   "id": "b7ac9e4a",
   "metadata": {},
   "outputs": [],
   "source": [
    "univar_analysis = UnivariateAnalysis(data)"
   ]
  },
  {
   "cell_type": "code",
   "execution_count": 13,
   "id": "6cbb2a46",
   "metadata": {},
   "outputs": [
    {
     "data": {
      "image/png": "[encoded data removed]",
      "text/plain": [
       "<Figure size 1440x576 with 2 Axes>"
      ]
     },
     "metadata": {
      "needs_background": "light"
     },
     "output_type": "display_data"
    }
   ],
   "source": [
    "univar_analysis.visualize('Risk')"
   ]
  },
  {
   "cell_type": "markdown",
   "id": "a4030392",
   "metadata": {},
   "source": [
    "It can be seen an imbalance in the distribution of target Risk"
   ]
  },
  {
   "cell_type": "markdown",
   "id": "9509b640",
   "metadata": {},
   "source": [
    "### Age "
   ]
  },
  {
   "cell_type": "code",
   "execution_count": 14,
   "id": "b140fd8c",
   "metadata": {},
   "outputs": [
    {
     "name": "stdout",
     "output_type": "stream",
     "text": [
      "count    903.000000\n",
      "mean      35.552602\n",
      "std       11.378942\n",
      "min       19.000000\n",
      "25%       27.000000\n",
      "50%       33.000000\n",
      "75%       42.000000\n",
      "max       75.000000\n",
      "Name: Age, dtype: float64\n"
     ]
    },
    {
     "data": {
      "image/png": "[encoded data removed]",
      "text/plain": [
       "<Figure size 1440x720 with 2 Axes>"
      ]
     },
     "metadata": {
      "needs_background": "light"
     },
     "output_type": "display_data"
    }
   ],
   "source": [
    "univar_analysis.visualize_numeric('Age')"
   ]
  },
  {
   "cell_type": "markdown",
   "id": "07c796da",
   "metadata": {},
   "source": [
    "Most applicant are young people"
   ]
  },
  {
   "cell_type": "code",
   "execution_count": 15,
   "id": "fb2643c3",
   "metadata": {},
   "outputs": [
    {
     "data": {
      "image/png": "[encoded data removed]",
      "text/plain": [
       "<Figure size 1440x576 with 1 Axes>"
      ]
     },
     "metadata": {
      "needs_background": "light"
     },
     "output_type": "display_data"
    }
   ],
   "source": [
    "fig, ax1 = plt.subplots(figsize=(20, 8))\n",
    "sns.countplot(data=data, x=\"Age\", hue=\"Risk\")\n",
    "plt.show()"
   ]
  },
  {
   "cell_type": "markdown",
   "id": "49586f79",
   "metadata": {},
   "source": [
    "Some certain age (22-25, 28-29, 53, 60-61) has very high percentage of bad credit"
   ]
  },
  {
   "cell_type": "markdown",
   "id": "b8c7a9ab",
   "metadata": {},
   "source": [
    "### Sex"
   ]
  },
  {
   "cell_type": "code",
   "execution_count": 16,
   "id": "c499c5c3",
   "metadata": {},
   "outputs": [
    {
     "data": {
      "image/png": "[encoded data removed]",
      "text/plain": [
       "<Figure size 1440x576 with 2 Axes>"
      ]
     },
     "metadata": {
      "needs_background": "light"
     },
     "output_type": "display_data"
    }
   ],
   "source": [
    "univar_analysis.visualize('Sex')"
   ]
  },
  {
   "cell_type": "code",
   "execution_count": 17,
   "id": "95e295d2",
   "metadata": {},
   "outputs": [
    {
     "data": {
      "image/png": "[encoded data removed]",
      "text/plain": [
       "<Figure size 1440x576 with 1 Axes>"
      ]
     },
     "metadata": {
      "needs_background": "light"
     },
     "output_type": "display_data"
    }
   ],
   "source": [
    "fig, ax1 = plt.subplots(figsize=(20, 8))\n",
    "sns.countplot(data=data, x=\"Sex\", hue=\"Risk\")\n",
    "plt.show()"
   ]
  },
  {
   "cell_type": "markdown",
   "id": "f0cfc00f",
   "metadata": {},
   "source": [
    "Female has more percentage of bad credit than male"
   ]
  },
  {
   "cell_type": "markdown",
   "id": "ae8a3569",
   "metadata": {},
   "source": [
    "### Purpose"
   ]
  },
  {
   "cell_type": "code",
   "execution_count": 18,
   "id": "9501f914",
   "metadata": {},
   "outputs": [
    {
     "data": {
      "image/png": "[encoded data removed]",
      "text/plain": [
       "<Figure size 1440x576 with 2 Axes>"
      ]
     },
     "metadata": {
      "needs_background": "light"
     },
     "output_type": "display_data"
    }
   ],
   "source": [
    "univar_analysis.visualize('Purpose', rotate = 45)"
   ]
  },
  {
   "cell_type": "code",
   "execution_count": 19,
   "id": "48937275",
   "metadata": {},
   "outputs": [
    {
     "data": {
      "image/png": "[encoded data removed]",
      "text/plain": [
       "<Figure size 1440x576 with 1 Axes>"
      ]
     },
     "metadata": {
      "needs_background": "light"
     },
     "output_type": "display_data"
    }
   ],
   "source": [
    "fig, ax1 = plt.subplots(figsize=(20, 8))\n",
    "sns.countplot(data=data, x=\"Purpose\", hue=\"Risk\")\n",
    "plt.show()"
   ]
  },
  {
   "cell_type": "markdown",
   "id": "cc576b8d",
   "metadata": {},
   "source": [
    "### Credit amount"
   ]
  },
  {
   "cell_type": "code",
   "execution_count": 20,
   "id": "c6097283",
   "metadata": {},
   "outputs": [
    {
     "name": "stdout",
     "output_type": "stream",
     "text": [
      "count      903.000000\n",
      "mean      3176.000000\n",
      "std       2760.371135\n",
      "min        250.000000\n",
      "25%       1340.500000\n",
      "50%       2247.000000\n",
      "75%       3842.500000\n",
      "max      18424.000000\n",
      "Name: Credit amount, dtype: float64\n"
     ]
    },
    {
     "data": {
      "image/png": "[encoded data removed]",
      "text/plain": [
       "<Figure size 1440x720 with 2 Axes>"
      ]
     },
     "metadata": {
      "needs_background": "light"
     },
     "output_type": "display_data"
    }
   ],
   "source": [
    "univar_analysis.visualize_numeric('Credit amount')"
   ]
  },
  {
   "cell_type": "markdown",
   "id": "b83b03ee",
   "metadata": {},
   "source": [
    "Most credit amount < 5000 Marks. Some credit amount extremely large (> 15000 Marks) "
   ]
  },
  {
   "cell_type": "markdown",
   "id": "cd588762",
   "metadata": {},
   "source": [
    "### Credit duration"
   ]
  },
  {
   "cell_type": "code",
   "execution_count": 21,
   "id": "e23bec89",
   "metadata": {},
   "outputs": [
    {
     "name": "stdout",
     "output_type": "stream",
     "text": [
      "count    903.000000\n",
      "mean      20.254707\n",
      "std       11.741743\n",
      "min        4.000000\n",
      "25%       12.000000\n",
      "50%       18.000000\n",
      "75%       24.000000\n",
      "max       72.000000\n",
      "Name: Duration, dtype: float64\n"
     ]
    },
    {
     "data": {
      "image/png": "[encoded data removed]",
      "text/plain": [
       "<Figure size 1440x720 with 2 Axes>"
      ]
     },
     "metadata": {
      "needs_background": "light"
     },
     "output_type": "display_data"
    }
   ],
   "source": [
    "univar_analysis.visualize_numeric('Duration')"
   ]
  },
  {
   "cell_type": "markdown",
   "id": "aad188bf",
   "metadata": {},
   "source": [
    "Some credit has duration extremely long (> 40 years)"
   ]
  },
  {
   "cell_type": "markdown",
   "id": "5e5ebb72",
   "metadata": {},
   "source": [
    "### Saving account"
   ]
  },
  {
   "cell_type": "code",
   "execution_count": 22,
   "id": "4009f839",
   "metadata": {},
   "outputs": [
    {
     "data": {
      "image/png": "[encoded data removed]",
      "text/plain": [
       "<Figure size 1440x576 with 1 Axes>"
      ]
     },
     "metadata": {
      "needs_background": "light"
     },
     "output_type": "display_data"
    }
   ],
   "source": [
    "fig, ax1 = plt.subplots(figsize=(20, 8))\n",
    "sns.countplot(data=data, x=\"Saving accounts\", hue=\"Risk\")\n",
    "plt.show()"
   ]
  },
  {
   "cell_type": "markdown",
   "id": "de1e7571",
   "metadata": {},
   "source": [
    "People who has quite rich and rich saving account is very likely to have good credit"
   ]
  },
  {
   "cell_type": "markdown",
   "id": "c8837173",
   "metadata": {},
   "source": [
    "### Checking account"
   ]
  },
  {
   "cell_type": "code",
   "execution_count": 23,
   "id": "a27f0c5d",
   "metadata": {},
   "outputs": [
    {
     "data": {
      "image/png": "[encoded data removed]",
      "text/plain": [
       "<Figure size 1440x576 with 1 Axes>"
      ]
     },
     "metadata": {
      "needs_background": "light"
     },
     "output_type": "display_data"
    }
   ],
   "source": [
    "fig, ax1 = plt.subplots(figsize=(20, 8))\n",
    "sns.countplot(data=data, x=\"Checking account\", hue=\"Risk\")\n",
    "plt.show()"
   ]
  },
  {
   "cell_type": "markdown",
   "id": "1ceb5021",
   "metadata": {},
   "source": [
    "The same trend can be seen with checking accounts"
   ]
  },
  {
   "cell_type": "markdown",
   "id": "baa76806",
   "metadata": {},
   "source": [
    "### Housing"
   ]
  },
  {
   "cell_type": "code",
   "execution_count": 24,
   "id": "fad9c957",
   "metadata": {},
   "outputs": [
    {
     "data": {
      "image/png": "[encoded data removed]",
      "text/plain": [
       "<Figure size 1440x576 with 1 Axes>"
      ]
     },
     "metadata": {
      "needs_background": "light"
     },
     "output_type": "display_data"
    }
   ],
   "source": [
    "fig, ax1 = plt.subplots(figsize=(20, 8))\n",
    "sns.countplot(data=data, x=\"Housing\", hue=\"Risk\")\n",
    "plt.show()"
   ]
  },
  {
   "cell_type": "markdown",
   "id": "c569a997",
   "metadata": {},
   "source": [
    "People who is house-owner is more likely to pay their debt"
   ]
  },
  {
   "cell_type": "markdown",
   "id": "8e0cb50e",
   "metadata": {},
   "source": [
    "### Job"
   ]
  },
  {
   "cell_type": "code",
   "execution_count": 25,
   "id": "568ac994",
   "metadata": {},
   "outputs": [
    {
     "data": {
      "image/png": "[encoded data removed]",
      "text/plain": [
       "<Figure size 1440x576 with 1 Axes>"
      ]
     },
     "metadata": {
      "needs_background": "light"
     },
     "output_type": "display_data"
    }
   ],
   "source": [
    "fig, ax1 = plt.subplots(figsize=(20, 8))\n",
    "sns.countplot(data=data, x=\"Job\", hue=\"Risk\")\n",
    "plt.show()"
   ]
  },
  {
   "cell_type": "markdown",
   "id": "4957bc19",
   "metadata": {},
   "source": [
    "Most loan applicants are skilled and highly-skilled laborers."
   ]
  },
  {
   "cell_type": "markdown",
   "id": "e18a8009",
   "metadata": {},
   "source": [
    "## Preprocessing and Feature Engineering"
   ]
  },
  {
   "cell_type": "code",
   "execution_count": 26,
   "id": "cb24ff29",
   "metadata": {},
   "outputs": [
    {
     "name": "stdout",
     "output_type": "stream",
     "text": [
      "<class 'pandas.core.frame.DataFrame'>\n",
      "Int64Index: 903 entries, 0 to 999\n",
      "Data columns (total 11 columns):\n",
      " #   Column            Non-Null Count  Dtype \n",
      "---  ------            --------------  ----- \n",
      " 0   Unnamed: 0        903 non-null    int64 \n",
      " 1   Age               903 non-null    int64 \n",
      " 2   Sex               903 non-null    object\n",
      " 3   Job               903 non-null    int64 \n",
      " 4   Housing           903 non-null    object\n",
      " 5   Saving accounts   734 non-null    object\n",
      " 6   Checking account  546 non-null    object\n",
      " 7   Credit amount     903 non-null    int64 \n",
      " 8   Duration          903 non-null    int64 \n",
      " 9   Purpose           903 non-null    object\n",
      " 10  Risk              903 non-null    object\n",
      "dtypes: int64(5), object(6)\n",
      "memory usage: 116.9+ KB\n"
     ]
    }
   ],
   "source": [
    "original_data = data.copy()\n",
    "original_data.info()"
   ]
  },
  {
   "cell_type": "code",
   "execution_count": 27,
   "id": "37f40e22",
   "metadata": {},
   "outputs": [
    {
     "name": "stdout",
     "output_type": "stream",
     "text": [
      "<class 'pandas.core.frame.DataFrame'>\n",
      "Int64Index: 903 entries, 0 to 999\n",
      "Data columns (total 11 columns):\n",
      " #   Column            Non-Null Count  Dtype \n",
      "---  ------            --------------  ----- \n",
      " 0   Unnamed: 0        903 non-null    int64 \n",
      " 1   Age               903 non-null    int64 \n",
      " 2   Sex               903 non-null    object\n",
      " 3   Job               903 non-null    int64 \n",
      " 4   Housing           903 non-null    object\n",
      " 5   Saving accounts   903 non-null    object\n",
      " 6   Checking account  903 non-null    object\n",
      " 7   Credit amount     903 non-null    int64 \n",
      " 8   Duration          903 non-null    int64 \n",
      " 9   Purpose           903 non-null    object\n",
      " 10  Risk              903 non-null    object\n",
      "dtypes: int64(5), object(6)\n",
      "memory usage: 116.9+ KB\n"
     ]
    }
   ],
   "source": [
    "#Fill nan\n",
    "data['Saving accounts'] = data['Saving accounts'].fillna('no')\n",
    "data['Checking account'] = data['Checking account'].fillna('no')\n",
    "data.info()"
   ]
  },
  {
   "cell_type": "code",
   "execution_count": 28,
   "id": "5f12478d",
   "metadata": {},
   "outputs": [],
   "source": [
    "#Drop outliers\n",
    "data = data[data['Credit amount'] <= 15000]"
   ]
  },
  {
   "cell_type": "code",
   "execution_count": 29,
   "id": "7fbbc8f0",
   "metadata": {},
   "outputs": [
    {
     "name": "stderr",
     "output_type": "stream",
     "text": [
      "C:\\Users\\Latitude E7490\\AppData\\Local\\Temp\\ipykernel_808\\2671387777.py:2: SettingWithCopyWarning: \n",
      "A value is trying to be set on a copy of a slice from a DataFrame.\n",
      "Try using .loc[row_indexer,col_indexer] = value instead\n",
      "\n",
      "See the caveats in the documentation: https://pandas.pydata.org/pandas-docs/stable/user_guide/indexing.html#returning-a-view-versus-a-copy\n",
      "  data['Risk'] = data['Risk'].replace({\n"
     ]
    }
   ],
   "source": [
    "# Encoding target variable \n",
    "data['Risk'] = data['Risk'].replace({\n",
    "    'good': 0, # Good = 0\n",
    "    'bad': 1  # Bad = 1\n",
    "})"
   ]
  },
  {
   "cell_type": "code",
   "execution_count": 30,
   "id": "69c7d021",
   "metadata": {},
   "outputs": [],
   "source": [
    "# One-hot encoding\n",
    "data = pd.get_dummies(data, columns = ['Sex', 'Housing', 'Saving accounts', 'Checking account', 'Purpose'])"
   ]
  },
  {
   "cell_type": "code",
   "execution_count": 31,
   "id": "1bfe1cf1",
   "metadata": {},
   "outputs": [],
   "source": [
    "# Drop Unnamed:0\n",
    "data.drop(columns=['Unnamed: 0'], inplace=True)"
   ]
  },
  {
   "cell_type": "code",
   "execution_count": 32,
   "id": "91b5af2b",
   "metadata": {},
   "outputs": [
    {
     "data": {
      "text/html": [
       "<div>\n",
       "<style scoped>\n",
       "    .dataframe tbody tr th:only-of-type {\n",
       "        vertical-align: middle;\n",
       "    }\n",
       "\n",
       "    .dataframe tbody tr th {\n",
       "        vertical-align: top;\n",
       "    }\n",
       "\n",
       "    .dataframe thead th {\n",
       "        text-align: right;\n",
       "    }\n",
       "</style>\n",
       "<table border=\"1\" class=\"dataframe\">\n",
       "  <thead>\n",
       "    <tr style=\"text-align: right;\">\n",
       "      <th></th>\n",
       "      <th>Age</th>\n",
       "      <th>Job</th>\n",
       "      <th>Credit amount</th>\n",
       "      <th>Duration</th>\n",
       "      <th>Risk</th>\n",
       "      <th>Sex_female</th>\n",
       "      <th>Sex_male</th>\n",
       "      <th>Housing_free</th>\n",
       "      <th>Housing_own</th>\n",
       "      <th>Housing_rent</th>\n",
       "      <th>...</th>\n",
       "      <th>Checking account_moderate</th>\n",
       "      <th>Checking account_no</th>\n",
       "      <th>Checking account_rich</th>\n",
       "      <th>Purpose_car</th>\n",
       "      <th>Purpose_domestic appliances</th>\n",
       "      <th>Purpose_education</th>\n",
       "      <th>Purpose_furniture/equipment</th>\n",
       "      <th>Purpose_radio/TV</th>\n",
       "      <th>Purpose_repairs</th>\n",
       "      <th>Purpose_vacation/others</th>\n",
       "    </tr>\n",
       "  </thead>\n",
       "  <tbody>\n",
       "    <tr>\n",
       "      <th>0</th>\n",
       "      <td>67</td>\n",
       "      <td>2</td>\n",
       "      <td>1169</td>\n",
       "      <td>6</td>\n",
       "      <td>0</td>\n",
       "      <td>0</td>\n",
       "      <td>1</td>\n",
       "      <td>0</td>\n",
       "      <td>1</td>\n",
       "      <td>0</td>\n",
       "      <td>...</td>\n",
       "      <td>0</td>\n",
       "      <td>0</td>\n",
       "      <td>0</td>\n",
       "      <td>0</td>\n",
       "      <td>0</td>\n",
       "      <td>0</td>\n",
       "      <td>0</td>\n",
       "      <td>1</td>\n",
       "      <td>0</td>\n",
       "      <td>0</td>\n",
       "    </tr>\n",
       "    <tr>\n",
       "      <th>1</th>\n",
       "      <td>22</td>\n",
       "      <td>2</td>\n",
       "      <td>5951</td>\n",
       "      <td>48</td>\n",
       "      <td>1</td>\n",
       "      <td>1</td>\n",
       "      <td>0</td>\n",
       "      <td>0</td>\n",
       "      <td>1</td>\n",
       "      <td>0</td>\n",
       "      <td>...</td>\n",
       "      <td>1</td>\n",
       "      <td>0</td>\n",
       "      <td>0</td>\n",
       "      <td>0</td>\n",
       "      <td>0</td>\n",
       "      <td>0</td>\n",
       "      <td>0</td>\n",
       "      <td>1</td>\n",
       "      <td>0</td>\n",
       "      <td>0</td>\n",
       "    </tr>\n",
       "    <tr>\n",
       "      <th>2</th>\n",
       "      <td>49</td>\n",
       "      <td>1</td>\n",
       "      <td>2096</td>\n",
       "      <td>12</td>\n",
       "      <td>0</td>\n",
       "      <td>0</td>\n",
       "      <td>1</td>\n",
       "      <td>0</td>\n",
       "      <td>1</td>\n",
       "      <td>0</td>\n",
       "      <td>...</td>\n",
       "      <td>0</td>\n",
       "      <td>1</td>\n",
       "      <td>0</td>\n",
       "      <td>0</td>\n",
       "      <td>0</td>\n",
       "      <td>1</td>\n",
       "      <td>0</td>\n",
       "      <td>0</td>\n",
       "      <td>0</td>\n",
       "      <td>0</td>\n",
       "    </tr>\n",
       "    <tr>\n",
       "      <th>3</th>\n",
       "      <td>45</td>\n",
       "      <td>2</td>\n",
       "      <td>7882</td>\n",
       "      <td>42</td>\n",
       "      <td>0</td>\n",
       "      <td>0</td>\n",
       "      <td>1</td>\n",
       "      <td>1</td>\n",
       "      <td>0</td>\n",
       "      <td>0</td>\n",
       "      <td>...</td>\n",
       "      <td>0</td>\n",
       "      <td>0</td>\n",
       "      <td>0</td>\n",
       "      <td>0</td>\n",
       "      <td>0</td>\n",
       "      <td>0</td>\n",
       "      <td>1</td>\n",
       "      <td>0</td>\n",
       "      <td>0</td>\n",
       "      <td>0</td>\n",
       "    </tr>\n",
       "    <tr>\n",
       "      <th>4</th>\n",
       "      <td>53</td>\n",
       "      <td>2</td>\n",
       "      <td>4870</td>\n",
       "      <td>24</td>\n",
       "      <td>1</td>\n",
       "      <td>0</td>\n",
       "      <td>1</td>\n",
       "      <td>1</td>\n",
       "      <td>0</td>\n",
       "      <td>0</td>\n",
       "      <td>...</td>\n",
       "      <td>0</td>\n",
       "      <td>0</td>\n",
       "      <td>0</td>\n",
       "      <td>1</td>\n",
       "      <td>0</td>\n",
       "      <td>0</td>\n",
       "      <td>0</td>\n",
       "      <td>0</td>\n",
       "      <td>0</td>\n",
       "      <td>0</td>\n",
       "    </tr>\n",
       "  </tbody>\n",
       "</table>\n",
       "<p>5 rows × 26 columns</p>\n",
       "</div>"
      ],
      "text/plain": [
       "   Age  Job  Credit amount  Duration  Risk  Sex_female  Sex_male  \\\n",
       "0   67    2           1169         6     0           0         1   \n",
       "1   22    2           5951        48     1           1         0   \n",
       "2   49    1           2096        12     0           0         1   \n",
       "3   45    2           7882        42     0           0         1   \n",
       "4   53    2           4870        24     1           0         1   \n",
       "\n",
       "   Housing_free  Housing_own  Housing_rent  ...  Checking account_moderate  \\\n",
       "0             0            1             0  ...                          0   \n",
       "1             0            1             0  ...                          1   \n",
       "2             0            1             0  ...                          0   \n",
       "3             1            0             0  ...                          0   \n",
       "4             1            0             0  ...                          0   \n",
       "\n",
       "   Checking account_no  Checking account_rich  Purpose_car  \\\n",
       "0                    0                      0            0   \n",
       "1                    0                      0            0   \n",
       "2                    1                      0            0   \n",
       "3                    0                      0            0   \n",
       "4                    0                      0            1   \n",
       "\n",
       "   Purpose_domestic appliances  Purpose_education  \\\n",
       "0                            0                  0   \n",
       "1                            0                  0   \n",
       "2                            0                  1   \n",
       "3                            0                  0   \n",
       "4                            0                  0   \n",
       "\n",
       "   Purpose_furniture/equipment  Purpose_radio/TV  Purpose_repairs  \\\n",
       "0                            0                 1                0   \n",
       "1                            0                 1                0   \n",
       "2                            0                 0                0   \n",
       "3                            1                 0                0   \n",
       "4                            0                 0                0   \n",
       "\n",
       "   Purpose_vacation/others  \n",
       "0                        0  \n",
       "1                        0  \n",
       "2                        0  \n",
       "3                        0  \n",
       "4                        0  \n",
       "\n",
       "[5 rows x 26 columns]"
      ]
     },
     "execution_count": 32,
     "metadata": {},
     "output_type": "execute_result"
    }
   ],
   "source": [
    "data.head()"
   ]
  },
  {
   "cell_type": "markdown",
   "id": "1ae5a9e8",
   "metadata": {},
   "source": [
    "### Train test split"
   ]
  },
  {
   "cell_type": "code",
   "execution_count": 33,
   "id": "6322d84d",
   "metadata": {},
   "outputs": [
    {
     "name": "stderr",
     "output_type": "stream",
     "text": [
      "C:\\Users\\Latitude E7490\\AppData\\Local\\Temp\\ipykernel_808\\2432596796.py:2: FutureWarning: In a future version of pandas all arguments of DataFrame.drop except for the argument 'labels' will be keyword-only.\n",
      "  X = data.drop('Risk', 1).values\n"
     ]
    }
   ],
   "source": [
    "#Creating X,y\n",
    "X = data.drop('Risk', 1).values\n",
    "y = data['Risk'].values\n",
    "\n",
    "# Spliting train and test in 80:20 ratio\n",
    "X_train, X_test, y_train, y_test = train_test_split(df, test_size = 0.20, random_state=42)"
   ]
  },
  {
   "cell_type": "code",
   "execution_count": 34,
   "id": "9e1b592a",
   "metadata": {},
   "outputs": [
    {
     "name": "stdout",
     "output_type": "stream",
     "text": [
      "Train Data:\n",
      "(720, 25)\n",
      "Test Data:\n",
      "(180, 25)\n"
     ]
    }
   ],
   "source": [
    "print('Train Data:')\n",
    "print(X_train.shape)\n",
    "print('Test Data:')\n",
    "print(X_test.shape)"
   ]
  },
  {
   "cell_type": "markdown",
   "id": "dcb9e10d",
   "metadata": {},
   "source": [
    "## Logistic Regression and other models"
   ]
  },
  {
   "cell_type": "code",
   "execution_count": 35,
   "id": "22d6714b",
   "metadata": {},
   "outputs": [
    {
     "name": "stdout",
     "output_type": "stream",
     "text": [
      "Accuracy: 76.66666666666667%\n",
      "Recall: 0.6645271715875054\n",
      "Gini Coefficient: 0.6593923833975182\n",
      "Cross-Validation ROC-AUC Scores: [0.67810458 0.7735761  0.74603175 0.75491357 0.73241771]\n",
      "Average Cross-Validation Gini Coefficient: 0.474017479752182\n"
     ]
    }
   ],
   "source": [
    "# Initialize logistic regression model with 'sag' solver\n",
    "lr_model = LogisticRegression(max_iter=1000,random_state=0)\n",
    "\n",
    "# Train the model\n",
    "lr_model.fit(X_train, y_train)\n",
    "\n",
    "# Perform cross-validation\n",
    "cv_scores = cross_val_score(lr_model, X_train, y_train, cv=5, scoring='roc_auc')\n",
    "\n",
    "# Predictions\n",
    "y_pred = lr_model.predict(X_test)\n",
    "y_pred_proba = lr_model.predict_proba(X_test)[:, 1]\n",
    "\n",
    "#Evaluation metrics\n",
    "accuracy = accuracy_score(y_test, y_pred)\n",
    "recall = recall_score(y_test, y_pred, average = 'macro')\n",
    "gini_score = 2 * roc_auc_score(y_test, y_pred_proba) - 1\n",
    "\n",
    "print(f\"Accuracy: {accuracy * 100.0}%\")\n",
    "print(f\"Recall: {recall}\")\n",
    "print(f\"Gini Coefficient: {gini_score}\")\n",
    "print(f\"Cross-Validation ROC-AUC Scores: {cv_scores}\")\n",
    "print(f\"Average Cross-Validation Gini Coefficient: {np.mean(2*cv_scores-1)}\")"
   ]
  },
  {
   "cell_type": "code",
   "execution_count": 36,
   "id": "3e5a6e0e",
   "metadata": {},
   "outputs": [
    {
     "name": "stderr",
     "output_type": "stream",
     "text": [
      "C:\\Users\\Latitude E7490\\anaconda3\\lib\\site-packages\\sklearn\\linear_model\\_logistic.py:814: ConvergenceWarning: lbfgs failed to converge (status=1):\n",
      "STOP: TOTAL NO. of ITERATIONS REACHED LIMIT.\n",
      "\n",
      "Increase the number of iterations (max_iter) or scale the data as shown in:\n",
      "    https://scikit-learn.org/stable/modules/preprocessing.html\n",
      "Please also refer to the documentation for alternative solver options:\n",
      "    https://scikit-learn.org/stable/modules/linear_model.html#logistic-regression\n",
      "  n_iter_i = _check_optimize_result(\n",
      "C:\\Users\\Latitude E7490\\anaconda3\\lib\\site-packages\\sklearn\\linear_model\\_logistic.py:814: ConvergenceWarning: lbfgs failed to converge (status=1):\n",
      "STOP: TOTAL NO. of ITERATIONS REACHED LIMIT.\n",
      "\n",
      "Increase the number of iterations (max_iter) or scale the data as shown in:\n",
      "    https://scikit-learn.org/stable/modules/preprocessing.html\n",
      "Please also refer to the documentation for alternative solver options:\n",
      "    https://scikit-learn.org/stable/modules/linear_model.html#logistic-regression\n",
      "  n_iter_i = _check_optimize_result(\n",
      "C:\\Users\\Latitude E7490\\anaconda3\\lib\\site-packages\\sklearn\\linear_model\\_logistic.py:814: ConvergenceWarning: lbfgs failed to converge (status=1):\n",
      "STOP: TOTAL NO. of ITERATIONS REACHED LIMIT.\n",
      "\n",
      "Increase the number of iterations (max_iter) or scale the data as shown in:\n",
      "    https://scikit-learn.org/stable/modules/preprocessing.html\n",
      "Please also refer to the documentation for alternative solver options:\n",
      "    https://scikit-learn.org/stable/modules/linear_model.html#logistic-regression\n",
      "  n_iter_i = _check_optimize_result(\n"
     ]
    },
    {
     "name": "stdout",
     "output_type": "stream",
     "text": [
      "----------\n",
      "LR\n",
      "Accuracy: 76.11111111111111%\n",
      "Recall: 0.6463414634146342\n",
      "Gini Coefficient: 0.6485522749964341\n",
      "Cross-Validation ROC-AUC Scores: [0.68323996 0.7735761  0.74603175 0.75491357 0.72933933]\n",
      "Average Cross-Validation Gini Coefficient: 0.474840282628167\n",
      "----------\n",
      "LDA\n",
      "Accuracy: 77.77777777777779%\n",
      "Recall: 0.686777920410783\n",
      "Gini Coefficient: 0.6605334474397375\n",
      "Cross-Validation ROC-AUC Scores: [0.67857143 0.79388422 0.73996265 0.72957613 0.70944826]\n",
      "Average Cross-Validation Gini Coefficient: 0.4605770763589989\n",
      "----------\n",
      "KNN\n",
      "Accuracy: 65.0%\n",
      "Recall: 0.5415062045357295\n",
      "Gini Coefficient: 0.0711738696334332\n",
      "Cross-Validation ROC-AUC Scores: [0.53606443 0.55450514 0.59360411 0.49502723 0.55375326]\n",
      "Average Cross-Validation Gini Coefficient: 0.09318166290906604\n",
      "----------\n",
      "DT\n",
      "Accuracy: 68.33333333333333%\n",
      "Recall: 0.6270860077021823\n",
      "Gini Coefficient: 0.2541720154043645\n",
      "Cross-Validation ROC-AUC Scores: [0.59243697 0.60854342 0.65266106 0.59093062 0.64207909]\n",
      "Average Cross-Validation Gini Coefficient: 0.23466046612819888\n",
      "----------\n",
      "NB\n",
      "Accuracy: 75.0%\n",
      "Recall: 0.7323491655969192\n",
      "Gini Coefficient: 0.5914990728854657\n",
      "Cross-Validation ROC-AUC Scores: [0.68604108 0.76914099 0.71171802 0.71678901 0.68008525]\n",
      "Average Cross-Validation Gini Coefficient: 0.4255097413501671\n",
      "----------\n",
      "RF\n",
      "Accuracy: 75.0%\n",
      "Recall: 0.6570389388104407\n",
      "Gini Coefficient: 0.5926401369276848\n",
      "Cross-Validation ROC-AUC Scores: [0.70681606 0.75361811 0.72630719 0.73123372 0.72756334]\n",
      "Average Cross-Validation Gini Coefficient: 0.4582153707642975\n",
      "----------\n",
      "SVM\n",
      "Accuracy: 67.77777777777779%\n",
      "Recall: 0.4959349593495935\n",
      "Gini Coefficient: -0.10369419483668518\n",
      "Cross-Validation ROC-AUC Scores: [0.49533147 0.49276377 0.51692344 0.48875207 0.48662089]\n",
      "Average Cross-Validation Gini Coefficient: -0.007843347300243053\n",
      "----------\n",
      "XGB\n",
      "Accuracy: 73.88888888888889%\n",
      "Recall: 0.6583226358579375\n",
      "Gini Coefficient: 0.5213236342889742\n",
      "Cross-Validation ROC-AUC Scores: [0.75863679 0.68744164 0.74416433 0.72081459 0.74567843]\n",
      "Average Cross-Validation Gini Coefficient: 0.4626943112867533\n"
     ]
    }
   ],
   "source": [
    "# prepare models\n",
    "models = []\n",
    "models.append(('LR', LogisticRegression()))\n",
    "models.append(('LDA', LinearDiscriminantAnalysis()))\n",
    "models.append(('KNN', KNeighborsClassifier()))\n",
    "models.append(('DT', DecisionTreeClassifier()))\n",
    "models.append(('NB', GaussianNB()))\n",
    "models.append(('RF', RandomForestClassifier()))\n",
    "models.append(('SVM', SVC(gamma='auto', probability=True)))\n",
    "models.append(('XGB', XGBClassifier()))\n",
    "\n",
    "for name, model in models:\n",
    "    model = model\n",
    "    # Train the model\n",
    "    model.fit(X_train, y_train)\n",
    "\n",
    "    # Perform cross-validation\n",
    "    cv_scores = cross_val_score(model, X_train, y_train, cv=5, scoring='roc_auc')\n",
    "\n",
    "    # Predictions\n",
    "    y_pred = model.predict(X_test)\n",
    "    y_pred_proba = model.predict_proba(X_test)[:, 1]\n",
    "\n",
    "    #Evaluation metrics\n",
    "    accuracy = accuracy_score(y_test, y_pred)\n",
    "    recall = recall_score(y_test, y_pred, average = 'macro')\n",
    "    gini_score = 2 * roc_auc_score(y_test, y_pred_proba) - 1\n",
    "    \n",
    "    print(\"-\" * 10)\n",
    "    print(name)\n",
    "    print(f\"Accuracy: {accuracy * 100.0}%\")\n",
    "    print(f\"Recall: {recall}\")\n",
    "    print(f\"Gini Coefficient: {gini_score}\")\n",
    "    print(f\"Cross-Validation ROC-AUC Scores: {cv_scores}\")\n",
    "    print(f\"Average Cross-Validation Gini Coefficient: {np.mean(2*cv_scores-1)}\")"
   ]
  },
  {
   "cell_type": "markdown",
   "id": "dad62214",
   "metadata": {},
   "source": [
    "## Logistic Regression with Weight of Evidence and Information Value"
   ]
  },
  {
   "cell_type": "markdown",
   "id": "5f59db23",
   "metadata": {},
   "source": [
    "### Calculate WoE and IV"
   ]
  },
  {
   "cell_type": "code",
   "execution_count": 37,
   "id": "2853b0ec",
   "metadata": {},
   "outputs": [],
   "source": [
    "def calculate_woe_iv(dataset, feature, target):\n",
    "    lst = []\n",
    "    for i in range(dataset[feature].nunique()):\n",
    "        val = list(dataset[feature].unique())[i]\n",
    "        lst.append({\n",
    "            'Value': val,\n",
    "            'All': dataset[dataset[feature] == val].count()[feature],\n",
    "            'Good': dataset[(dataset[feature] == val) & (dataset[target] == 0)].count()[feature],\n",
    "            'Bad': dataset[(dataset[feature] == val) & (dataset[target] == 1)].count()[feature]\n",
    "        }) \n",
    "    dset = pd.DataFrame(lst)\n",
    "    dset['Distr_Good'] = dset['Good'] / dset['Good'].sum()\n",
    "    dset['Distr_Bad'] = dset['Bad'] / dset['Bad'].sum()\n",
    "    dset['WoE'] = np.log(dset['Distr_Good'] / dset['Distr_Bad'])\n",
    "    dset = dset.replace({'WoE': {np.inf: 0, -np.inf: 0}})\n",
    "    dset['IV'] = (dset['Distr_Good'] - dset['Distr_Bad']) * dset['WoE']\n",
    "    iv = dset['IV'].sum()\n",
    "    dset = dset.sort_values(by='WoE')\n",
    "    return dset, iv"
   ]
  },
  {
   "cell_type": "code",
   "execution_count": 38,
   "id": "3235f630",
   "metadata": {},
   "outputs": [
    {
     "name": "stdout",
     "output_type": "stream",
     "text": [
      "<class 'pandas.core.frame.DataFrame'>\n",
      "Int64Index: 903 entries, 0 to 999\n",
      "Data columns (total 11 columns):\n",
      " #   Column            Non-Null Count  Dtype \n",
      "---  ------            --------------  ----- \n",
      " 0   Unnamed: 0        903 non-null    int64 \n",
      " 1   Age               903 non-null    int64 \n",
      " 2   Sex               903 non-null    object\n",
      " 3   Job               903 non-null    int64 \n",
      " 4   Housing           903 non-null    object\n",
      " 5   Saving accounts   734 non-null    object\n",
      " 6   Checking account  546 non-null    object\n",
      " 7   Credit amount     903 non-null    int64 \n",
      " 8   Duration          903 non-null    int64 \n",
      " 9   Purpose           903 non-null    object\n",
      " 10  Risk              903 non-null    object\n",
      "dtypes: int64(5), object(6)\n",
      "memory usage: 116.9+ KB\n"
     ]
    }
   ],
   "source": [
    "data = original_data\n",
    "data.info()"
   ]
  },
  {
   "cell_type": "code",
   "execution_count": 39,
   "id": "5ce8cb58",
   "metadata": {},
   "outputs": [
    {
     "name": "stdout",
     "output_type": "stream",
     "text": [
      "<class 'pandas.core.frame.DataFrame'>\n",
      "Int64Index: 903 entries, 0 to 999\n",
      "Data columns (total 11 columns):\n",
      " #   Column            Non-Null Count  Dtype \n",
      "---  ------            --------------  ----- \n",
      " 0   Unnamed: 0        903 non-null    int64 \n",
      " 1   Age               903 non-null    int64 \n",
      " 2   Sex               903 non-null    object\n",
      " 3   Job               903 non-null    int64 \n",
      " 4   Housing           903 non-null    object\n",
      " 5   Saving accounts   903 non-null    object\n",
      " 6   Checking account  903 non-null    object\n",
      " 7   Credit amount     903 non-null    int64 \n",
      " 8   Duration          903 non-null    int64 \n",
      " 9   Purpose           903 non-null    object\n",
      " 10  Risk              903 non-null    object\n",
      "dtypes: int64(5), object(6)\n",
      "memory usage: 116.9+ KB\n"
     ]
    }
   ],
   "source": [
    "#Fill nan\n",
    "data['Saving accounts'] = data['Saving accounts'].fillna('no')\n",
    "data['Checking account'] = data['Checking account'].fillna('no')\n",
    "data.info()"
   ]
  },
  {
   "cell_type": "code",
   "execution_count": 40,
   "id": "a9142ba5",
   "metadata": {},
   "outputs": [],
   "source": [
    "#Drop outliers\n",
    "data = data[data['Credit amount'] <= 15000]"
   ]
  },
  {
   "cell_type": "code",
   "execution_count": 41,
   "id": "3edb883d",
   "metadata": {},
   "outputs": [
    {
     "name": "stdout",
     "output_type": "stream",
     "text": [
      "<class 'pandas.core.frame.DataFrame'>\n",
      "Int64Index: 900 entries, 0 to 999\n",
      "Data columns (total 10 columns):\n",
      " #   Column            Non-Null Count  Dtype   \n",
      "---  ------            --------------  -----   \n",
      " 0   Age               900 non-null    int64   \n",
      " 1   Sex               900 non-null    category\n",
      " 2   Job               900 non-null    category\n",
      " 3   Housing           900 non-null    category\n",
      " 4   Saving accounts   900 non-null    category\n",
      " 5   Checking account  900 non-null    category\n",
      " 6   Credit amount     900 non-null    int64   \n",
      " 7   Duration          900 non-null    int64   \n",
      " 8   Purpose           900 non-null    category\n",
      " 9   Risk              900 non-null    object  \n",
      "dtypes: category(6), int64(3), object(1)\n",
      "memory usage: 41.6+ KB\n"
     ]
    },
    {
     "name": "stderr",
     "output_type": "stream",
     "text": [
      "C:\\Users\\Latitude E7490\\AppData\\Local\\Temp\\ipykernel_808\\2997029768.py:2: SettingWithCopyWarning: \n",
      "A value is trying to be set on a copy of a slice from a DataFrame.\n",
      "Try using .loc[row_indexer,col_indexer] = value instead\n",
      "\n",
      "See the caveats in the documentation: https://pandas.pydata.org/pandas-docs/stable/user_guide/indexing.html#returning-a-view-versus-a-copy\n",
      "  data['Sex'] = pd.Categorical(data['Sex'])\n",
      "C:\\Users\\Latitude E7490\\AppData\\Local\\Temp\\ipykernel_808\\2997029768.py:3: SettingWithCopyWarning: \n",
      "A value is trying to be set on a copy of a slice from a DataFrame.\n",
      "Try using .loc[row_indexer,col_indexer] = value instead\n",
      "\n",
      "See the caveats in the documentation: https://pandas.pydata.org/pandas-docs/stable/user_guide/indexing.html#returning-a-view-versus-a-copy\n",
      "  data['Housing'] = pd.Categorical(data['Housing'])\n",
      "C:\\Users\\Latitude E7490\\AppData\\Local\\Temp\\ipykernel_808\\2997029768.py:4: SettingWithCopyWarning: \n",
      "A value is trying to be set on a copy of a slice from a DataFrame.\n",
      "Try using .loc[row_indexer,col_indexer] = value instead\n",
      "\n",
      "See the caveats in the documentation: https://pandas.pydata.org/pandas-docs/stable/user_guide/indexing.html#returning-a-view-versus-a-copy\n",
      "  data['Saving accounts'] = pd.Categorical(data['Saving accounts'])\n",
      "C:\\Users\\Latitude E7490\\AppData\\Local\\Temp\\ipykernel_808\\2997029768.py:5: SettingWithCopyWarning: \n",
      "A value is trying to be set on a copy of a slice from a DataFrame.\n",
      "Try using .loc[row_indexer,col_indexer] = value instead\n",
      "\n",
      "See the caveats in the documentation: https://pandas.pydata.org/pandas-docs/stable/user_guide/indexing.html#returning-a-view-versus-a-copy\n",
      "  data['Checking account'] = pd.Categorical(data['Checking account'])\n",
      "C:\\Users\\Latitude E7490\\AppData\\Local\\Temp\\ipykernel_808\\2997029768.py:6: SettingWithCopyWarning: \n",
      "A value is trying to be set on a copy of a slice from a DataFrame.\n",
      "Try using .loc[row_indexer,col_indexer] = value instead\n",
      "\n",
      "See the caveats in the documentation: https://pandas.pydata.org/pandas-docs/stable/user_guide/indexing.html#returning-a-view-versus-a-copy\n",
      "  data['Purpose'] = pd.Categorical(data['Purpose'])\n",
      "C:\\Users\\Latitude E7490\\AppData\\Local\\Temp\\ipykernel_808\\2997029768.py:7: SettingWithCopyWarning: \n",
      "A value is trying to be set on a copy of a slice from a DataFrame.\n",
      "Try using .loc[row_indexer,col_indexer] = value instead\n",
      "\n",
      "See the caveats in the documentation: https://pandas.pydata.org/pandas-docs/stable/user_guide/indexing.html#returning-a-view-versus-a-copy\n",
      "  data['Job'] = pd.Categorical(data['Job'])\n",
      "C:\\Users\\Latitude E7490\\AppData\\Local\\Temp\\ipykernel_808\\2997029768.py:10: SettingWithCopyWarning: \n",
      "A value is trying to be set on a copy of a slice from a DataFrame\n",
      "\n",
      "See the caveats in the documentation: https://pandas.pydata.org/pandas-docs/stable/user_guide/indexing.html#returning-a-view-versus-a-copy\n",
      "  data.drop(columns=['Unnamed: 0'], inplace=True)\n"
     ]
    }
   ],
   "source": [
    "# Convert categorical variables into category datatype\n",
    "data['Sex'] = pd.Categorical(data['Sex'])\n",
    "data['Housing'] = pd.Categorical(data['Housing'])\n",
    "data['Saving accounts'] = pd.Categorical(data['Saving accounts'])\n",
    "data['Checking account'] = pd.Categorical(data['Checking account'])\n",
    "data['Purpose'] = pd.Categorical(data['Purpose'])\n",
    "data['Job'] = pd.Categorical(data['Job'])\n",
    "\n",
    "# Drop Unnamed:0\n",
    "data.drop(columns=['Unnamed: 0'], inplace=True)\n",
    "\n",
    "data.info()"
   ]
  },
  {
   "cell_type": "code",
   "execution_count": 42,
   "id": "34956ee3",
   "metadata": {},
   "outputs": [
    {
     "name": "stderr",
     "output_type": "stream",
     "text": [
      "C:\\Users\\Latitude E7490\\AppData\\Local\\Temp\\ipykernel_808\\2671387777.py:2: SettingWithCopyWarning: \n",
      "A value is trying to be set on a copy of a slice from a DataFrame.\n",
      "Try using .loc[row_indexer,col_indexer] = value instead\n",
      "\n",
      "See the caveats in the documentation: https://pandas.pydata.org/pandas-docs/stable/user_guide/indexing.html#returning-a-view-versus-a-copy\n",
      "  data['Risk'] = data['Risk'].replace({\n"
     ]
    }
   ],
   "source": [
    "# Encoding target variable \n",
    "data['Risk'] = data['Risk'].replace({\n",
    "    'good': 0, # Good = 0\n",
    "    'bad': 1  # Bad = 1\n",
    "})"
   ]
  },
  {
   "cell_type": "code",
   "execution_count": 43,
   "id": "afc27434",
   "metadata": {},
   "outputs": [],
   "source": [
    "def split_train_test(df, test_size, seed):\n",
    "    \n",
    "    '''\n",
    "    This function splits a dataframe for training and testing according to test_size\n",
    "    '''\n",
    "    \n",
    "    train, test = train_test_split(df, test_size = test_size, shuffle = True, random_state = seed) # Splitting data\n",
    "\n",
    "    print(f'\\n Train shape: {train.shape}\\n')\n",
    "    print(f'\\n {len(train):,.0f} Samples \\n')\n",
    "    print(f'\\n {len(train.columns)} Attributes \\n')\n",
    "    display(train.head(10))\n",
    "    print('\\n' * 2)\n",
    "\n",
    "    print(f'\\n Test shape: {test.shape:}\\n')\n",
    "    print(f'\\n {len(test):,.0f} Samples \\n')\n",
    "    print(f'\\n {len(test.columns)} Attributes \\n')\n",
    "    display(test.head(10))\n",
    "    \n",
    "    return train, test"
   ]
  },
  {
   "cell_type": "code",
   "execution_count": 44,
   "id": "7139c0ca",
   "metadata": {},
   "outputs": [
    {
     "name": "stdout",
     "output_type": "stream",
     "text": [
      "\n",
      " Train shape: (720, 10)\n",
      "\n",
      "\n",
      " 720 Samples \n",
      "\n",
      "\n",
      " 10 Attributes \n",
      "\n"
     ]
    },
    {
     "data": {
      "text/html": [
       "<div>\n",
       "<style scoped>\n",
       "    .dataframe tbody tr th:only-of-type {\n",
       "        vertical-align: middle;\n",
       "    }\n",
       "\n",
       "    .dataframe tbody tr th {\n",
       "        vertical-align: top;\n",
       "    }\n",
       "\n",
       "    .dataframe thead th {\n",
       "        text-align: right;\n",
       "    }\n",
       "</style>\n",
       "<table border=\"1\" class=\"dataframe\">\n",
       "  <thead>\n",
       "    <tr style=\"text-align: right;\">\n",
       "      <th></th>\n",
       "      <th>Age</th>\n",
       "      <th>Sex</th>\n",
       "      <th>Job</th>\n",
       "      <th>Housing</th>\n",
       "      <th>Saving accounts</th>\n",
       "      <th>Checking account</th>\n",
       "      <th>Credit amount</th>\n",
       "      <th>Duration</th>\n",
       "      <th>Purpose</th>\n",
       "      <th>Risk</th>\n",
       "    </tr>\n",
       "  </thead>\n",
       "  <tbody>\n",
       "    <tr>\n",
       "      <th>385</th>\n",
       "      <td>25</td>\n",
       "      <td>female</td>\n",
       "      <td>2</td>\n",
       "      <td>own</td>\n",
       "      <td>little</td>\n",
       "      <td>no</td>\n",
       "      <td>2238</td>\n",
       "      <td>18</td>\n",
       "      <td>radio/TV</td>\n",
       "      <td>0</td>\n",
       "    </tr>\n",
       "    <tr>\n",
       "      <th>753</th>\n",
       "      <td>25</td>\n",
       "      <td>female</td>\n",
       "      <td>2</td>\n",
       "      <td>own</td>\n",
       "      <td>little</td>\n",
       "      <td>no</td>\n",
       "      <td>5771</td>\n",
       "      <td>30</td>\n",
       "      <td>radio/TV</td>\n",
       "      <td>0</td>\n",
       "    </tr>\n",
       "    <tr>\n",
       "      <th>261</th>\n",
       "      <td>55</td>\n",
       "      <td>female</td>\n",
       "      <td>2</td>\n",
       "      <td>own</td>\n",
       "      <td>little</td>\n",
       "      <td>little</td>\n",
       "      <td>1603</td>\n",
       "      <td>24</td>\n",
       "      <td>radio/TV</td>\n",
       "      <td>0</td>\n",
       "    </tr>\n",
       "    <tr>\n",
       "      <th>240</th>\n",
       "      <td>29</td>\n",
       "      <td>female</td>\n",
       "      <td>2</td>\n",
       "      <td>own</td>\n",
       "      <td>no</td>\n",
       "      <td>little</td>\n",
       "      <td>915</td>\n",
       "      <td>24</td>\n",
       "      <td>car</td>\n",
       "      <td>1</td>\n",
       "    </tr>\n",
       "    <tr>\n",
       "      <th>215</th>\n",
       "      <td>39</td>\n",
       "      <td>female</td>\n",
       "      <td>1</td>\n",
       "      <td>own</td>\n",
       "      <td>no</td>\n",
       "      <td>moderate</td>\n",
       "      <td>932</td>\n",
       "      <td>6</td>\n",
       "      <td>education</td>\n",
       "      <td>0</td>\n",
       "    </tr>\n",
       "    <tr>\n",
       "      <th>539</th>\n",
       "      <td>45</td>\n",
       "      <td>female</td>\n",
       "      <td>1</td>\n",
       "      <td>own</td>\n",
       "      <td>little</td>\n",
       "      <td>rich</td>\n",
       "      <td>3049</td>\n",
       "      <td>18</td>\n",
       "      <td>furniture/equipment</td>\n",
       "      <td>0</td>\n",
       "    </tr>\n",
       "    <tr>\n",
       "      <th>206</th>\n",
       "      <td>43</td>\n",
       "      <td>male</td>\n",
       "      <td>2</td>\n",
       "      <td>own</td>\n",
       "      <td>little</td>\n",
       "      <td>no</td>\n",
       "      <td>1935</td>\n",
       "      <td>12</td>\n",
       "      <td>furniture/equipment</td>\n",
       "      <td>0</td>\n",
       "    </tr>\n",
       "    <tr>\n",
       "      <th>664</th>\n",
       "      <td>50</td>\n",
       "      <td>female</td>\n",
       "      <td>1</td>\n",
       "      <td>own</td>\n",
       "      <td>little</td>\n",
       "      <td>rich</td>\n",
       "      <td>1047</td>\n",
       "      <td>6</td>\n",
       "      <td>education</td>\n",
       "      <td>0</td>\n",
       "    </tr>\n",
       "    <tr>\n",
       "      <th>420</th>\n",
       "      <td>20</td>\n",
       "      <td>female</td>\n",
       "      <td>2</td>\n",
       "      <td>rent</td>\n",
       "      <td>rich</td>\n",
       "      <td>no</td>\n",
       "      <td>3186</td>\n",
       "      <td>15</td>\n",
       "      <td>car</td>\n",
       "      <td>0</td>\n",
       "    </tr>\n",
       "    <tr>\n",
       "      <th>393</th>\n",
       "      <td>31</td>\n",
       "      <td>female</td>\n",
       "      <td>2</td>\n",
       "      <td>own</td>\n",
       "      <td>little</td>\n",
       "      <td>little</td>\n",
       "      <td>1957</td>\n",
       "      <td>6</td>\n",
       "      <td>radio/TV</td>\n",
       "      <td>0</td>\n",
       "    </tr>\n",
       "  </tbody>\n",
       "</table>\n",
       "</div>"
      ],
      "text/plain": [
       "     Age     Sex Job Housing Saving accounts Checking account  Credit amount  \\\n",
       "385   25  female   2     own          little               no           2238   \n",
       "753   25  female   2     own          little               no           5771   \n",
       "261   55  female   2     own          little           little           1603   \n",
       "240   29  female   2     own              no           little            915   \n",
       "215   39  female   1     own              no         moderate            932   \n",
       "539   45  female   1     own          little             rich           3049   \n",
       "206   43    male   2     own          little               no           1935   \n",
       "664   50  female   1     own          little             rich           1047   \n",
       "420   20  female   2    rent            rich               no           3186   \n",
       "393   31  female   2     own          little           little           1957   \n",
       "\n",
       "     Duration              Purpose  Risk  \n",
       "385        18             radio/TV     0  \n",
       "753        30             radio/TV     0  \n",
       "261        24             radio/TV     0  \n",
       "240        24                  car     1  \n",
       "215         6            education     0  \n",
       "539        18  furniture/equipment     0  \n",
       "206        12  furniture/equipment     0  \n",
       "664         6            education     0  \n",
       "420        15                  car     0  \n",
       "393         6             radio/TV     0  "
      ]
     },
     "metadata": {},
     "output_type": "display_data"
    },
    {
     "name": "stdout",
     "output_type": "stream",
     "text": [
      "\n",
      "\n",
      "\n",
      "\n",
      " Test shape: (180, 10)\n",
      "\n",
      "\n",
      " 180 Samples \n",
      "\n",
      "\n",
      " 10 Attributes \n",
      "\n"
     ]
    },
    {
     "data": {
      "text/html": [
       "<div>\n",
       "<style scoped>\n",
       "    .dataframe tbody tr th:only-of-type {\n",
       "        vertical-align: middle;\n",
       "    }\n",
       "\n",
       "    .dataframe tbody tr th {\n",
       "        vertical-align: top;\n",
       "    }\n",
       "\n",
       "    .dataframe thead th {\n",
       "        text-align: right;\n",
       "    }\n",
       "</style>\n",
       "<table border=\"1\" class=\"dataframe\">\n",
       "  <thead>\n",
       "    <tr style=\"text-align: right;\">\n",
       "      <th></th>\n",
       "      <th>Age</th>\n",
       "      <th>Sex</th>\n",
       "      <th>Job</th>\n",
       "      <th>Housing</th>\n",
       "      <th>Saving accounts</th>\n",
       "      <th>Checking account</th>\n",
       "      <th>Credit amount</th>\n",
       "      <th>Duration</th>\n",
       "      <th>Purpose</th>\n",
       "      <th>Risk</th>\n",
       "    </tr>\n",
       "  </thead>\n",
       "  <tbody>\n",
       "    <tr>\n",
       "      <th>681</th>\n",
       "      <td>37</td>\n",
       "      <td>male</td>\n",
       "      <td>2</td>\n",
       "      <td>free</td>\n",
       "      <td>no</td>\n",
       "      <td>no</td>\n",
       "      <td>2279</td>\n",
       "      <td>12</td>\n",
       "      <td>radio/TV</td>\n",
       "      <td>0</td>\n",
       "    </tr>\n",
       "    <tr>\n",
       "      <th>578</th>\n",
       "      <td>27</td>\n",
       "      <td>male</td>\n",
       "      <td>2</td>\n",
       "      <td>own</td>\n",
       "      <td>little</td>\n",
       "      <td>moderate</td>\n",
       "      <td>2820</td>\n",
       "      <td>36</td>\n",
       "      <td>car</td>\n",
       "      <td>1</td>\n",
       "    </tr>\n",
       "    <tr>\n",
       "      <th>766</th>\n",
       "      <td>31</td>\n",
       "      <td>male</td>\n",
       "      <td>1</td>\n",
       "      <td>own</td>\n",
       "      <td>little</td>\n",
       "      <td>little</td>\n",
       "      <td>3108</td>\n",
       "      <td>30</td>\n",
       "      <td>furniture/equipment</td>\n",
       "      <td>1</td>\n",
       "    </tr>\n",
       "    <tr>\n",
       "      <th>508</th>\n",
       "      <td>28</td>\n",
       "      <td>male</td>\n",
       "      <td>2</td>\n",
       "      <td>own</td>\n",
       "      <td>little</td>\n",
       "      <td>no</td>\n",
       "      <td>1413</td>\n",
       "      <td>24</td>\n",
       "      <td>radio/TV</td>\n",
       "      <td>0</td>\n",
       "    </tr>\n",
       "    <tr>\n",
       "      <th>98</th>\n",
       "      <td>36</td>\n",
       "      <td>male</td>\n",
       "      <td>2</td>\n",
       "      <td>own</td>\n",
       "      <td>little</td>\n",
       "      <td>moderate</td>\n",
       "      <td>2337</td>\n",
       "      <td>36</td>\n",
       "      <td>radio/TV</td>\n",
       "      <td>0</td>\n",
       "    </tr>\n",
       "    <tr>\n",
       "      <th>497</th>\n",
       "      <td>40</td>\n",
       "      <td>male</td>\n",
       "      <td>2</td>\n",
       "      <td>own</td>\n",
       "      <td>little</td>\n",
       "      <td>no</td>\n",
       "      <td>1585</td>\n",
       "      <td>24</td>\n",
       "      <td>furniture/equipment</td>\n",
       "      <td>0</td>\n",
       "    </tr>\n",
       "    <tr>\n",
       "      <th>329</th>\n",
       "      <td>28</td>\n",
       "      <td>male</td>\n",
       "      <td>2</td>\n",
       "      <td>own</td>\n",
       "      <td>little</td>\n",
       "      <td>moderate</td>\n",
       "      <td>1068</td>\n",
       "      <td>6</td>\n",
       "      <td>radio/TV</td>\n",
       "      <td>0</td>\n",
       "    </tr>\n",
       "    <tr>\n",
       "      <th>926</th>\n",
       "      <td>21</td>\n",
       "      <td>female</td>\n",
       "      <td>2</td>\n",
       "      <td>rent</td>\n",
       "      <td>little</td>\n",
       "      <td>little</td>\n",
       "      <td>1049</td>\n",
       "      <td>18</td>\n",
       "      <td>furniture/equipment</td>\n",
       "      <td>0</td>\n",
       "    </tr>\n",
       "    <tr>\n",
       "      <th>953</th>\n",
       "      <td>26</td>\n",
       "      <td>female</td>\n",
       "      <td>3</td>\n",
       "      <td>own</td>\n",
       "      <td>little</td>\n",
       "      <td>no</td>\n",
       "      <td>10974</td>\n",
       "      <td>36</td>\n",
       "      <td>furniture/equipment</td>\n",
       "      <td>1</td>\n",
       "    </tr>\n",
       "    <tr>\n",
       "      <th>53</th>\n",
       "      <td>31</td>\n",
       "      <td>male</td>\n",
       "      <td>2</td>\n",
       "      <td>own</td>\n",
       "      <td>no</td>\n",
       "      <td>no</td>\n",
       "      <td>3378</td>\n",
       "      <td>18</td>\n",
       "      <td>car</td>\n",
       "      <td>0</td>\n",
       "    </tr>\n",
       "  </tbody>\n",
       "</table>\n",
       "</div>"
      ],
      "text/plain": [
       "     Age     Sex Job Housing Saving accounts Checking account  Credit amount  \\\n",
       "681   37    male   2    free              no               no           2279   \n",
       "578   27    male   2     own          little         moderate           2820   \n",
       "766   31    male   1     own          little           little           3108   \n",
       "508   28    male   2     own          little               no           1413   \n",
       "98    36    male   2     own          little         moderate           2337   \n",
       "497   40    male   2     own          little               no           1585   \n",
       "329   28    male   2     own          little         moderate           1068   \n",
       "926   21  female   2    rent          little           little           1049   \n",
       "953   26  female   3     own          little               no          10974   \n",
       "53    31    male   2     own              no               no           3378   \n",
       "\n",
       "     Duration              Purpose  Risk  \n",
       "681        12             radio/TV     0  \n",
       "578        36                  car     1  \n",
       "766        30  furniture/equipment     1  \n",
       "508        24             radio/TV     0  \n",
       "98         36             radio/TV     0  \n",
       "497        24  furniture/equipment     0  \n",
       "329         6             radio/TV     0  \n",
       "926        18  furniture/equipment     0  \n",
       "953        36  furniture/equipment     1  \n",
       "53         18                  car     0  "
      ]
     },
     "metadata": {},
     "output_type": "display_data"
    }
   ],
   "source": [
    "train, test = split_train_test(data, 0.2, 123)"
   ]
  },
  {
   "cell_type": "code",
   "execution_count": 45,
   "id": "5fba5e96",
   "metadata": {},
   "outputs": [],
   "source": [
    "# Convert numeric variables into bins\n",
    "train['Age_bin']= pd.qcut(train['Age'], 10)\n",
    "train['Credit_AMT_bin']= pd.qcut(train['Credit amount'], 10)\n",
    "train['Duration_bin']= pd.qcut(train['Duration'], 6)"
   ]
  },
  {
   "cell_type": "code",
   "execution_count": 46,
   "id": "0f5940ca",
   "metadata": {},
   "outputs": [
    {
     "data": {
      "text/html": [
       "<div>\n",
       "<style scoped>\n",
       "    .dataframe tbody tr th:only-of-type {\n",
       "        vertical-align: middle;\n",
       "    }\n",
       "\n",
       "    .dataframe tbody tr th {\n",
       "        vertical-align: top;\n",
       "    }\n",
       "\n",
       "    .dataframe thead th {\n",
       "        text-align: right;\n",
       "    }\n",
       "</style>\n",
       "<table border=\"1\" class=\"dataframe\">\n",
       "  <thead>\n",
       "    <tr style=\"text-align: right;\">\n",
       "      <th></th>\n",
       "      <th>Age</th>\n",
       "      <th>Sex</th>\n",
       "      <th>Job</th>\n",
       "      <th>Housing</th>\n",
       "      <th>Saving accounts</th>\n",
       "      <th>Checking account</th>\n",
       "      <th>Credit amount</th>\n",
       "      <th>Duration</th>\n",
       "      <th>Purpose</th>\n",
       "      <th>Risk</th>\n",
       "      <th>Age_bin</th>\n",
       "      <th>Credit_AMT_bin</th>\n",
       "      <th>Duration_bin</th>\n",
       "    </tr>\n",
       "  </thead>\n",
       "  <tbody>\n",
       "    <tr>\n",
       "      <th>385</th>\n",
       "      <td>25</td>\n",
       "      <td>female</td>\n",
       "      <td>2</td>\n",
       "      <td>own</td>\n",
       "      <td>little</td>\n",
       "      <td>no</td>\n",
       "      <td>2238</td>\n",
       "      <td>18</td>\n",
       "      <td>radio/TV</td>\n",
       "      <td>0</td>\n",
       "      <td>(23.0, 26.0]</td>\n",
       "      <td>(2217.5, 2734.0]</td>\n",
       "      <td>(12.0, 18.0]</td>\n",
       "    </tr>\n",
       "    <tr>\n",
       "      <th>753</th>\n",
       "      <td>25</td>\n",
       "      <td>female</td>\n",
       "      <td>2</td>\n",
       "      <td>own</td>\n",
       "      <td>little</td>\n",
       "      <td>no</td>\n",
       "      <td>5771</td>\n",
       "      <td>30</td>\n",
       "      <td>radio/TV</td>\n",
       "      <td>0</td>\n",
       "      <td>(23.0, 26.0]</td>\n",
       "      <td>(4577.4, 6893.1]</td>\n",
       "      <td>(24.0, 30.0]</td>\n",
       "    </tr>\n",
       "    <tr>\n",
       "      <th>261</th>\n",
       "      <td>55</td>\n",
       "      <td>female</td>\n",
       "      <td>2</td>\n",
       "      <td>own</td>\n",
       "      <td>little</td>\n",
       "      <td>little</td>\n",
       "      <td>1603</td>\n",
       "      <td>24</td>\n",
       "      <td>radio/TV</td>\n",
       "      <td>0</td>\n",
       "      <td>(52.1, 75.0]</td>\n",
       "      <td>(1449.7, 1832.6]</td>\n",
       "      <td>(18.0, 24.0]</td>\n",
       "    </tr>\n",
       "    <tr>\n",
       "      <th>240</th>\n",
       "      <td>29</td>\n",
       "      <td>female</td>\n",
       "      <td>2</td>\n",
       "      <td>own</td>\n",
       "      <td>no</td>\n",
       "      <td>little</td>\n",
       "      <td>915</td>\n",
       "      <td>24</td>\n",
       "      <td>car</td>\n",
       "      <td>1</td>\n",
       "      <td>(28.0, 30.0]</td>\n",
       "      <td>(901.8, 1252.8]</td>\n",
       "      <td>(18.0, 24.0]</td>\n",
       "    </tr>\n",
       "    <tr>\n",
       "      <th>215</th>\n",
       "      <td>39</td>\n",
       "      <td>female</td>\n",
       "      <td>1</td>\n",
       "      <td>own</td>\n",
       "      <td>no</td>\n",
       "      <td>moderate</td>\n",
       "      <td>932</td>\n",
       "      <td>6</td>\n",
       "      <td>education</td>\n",
       "      <td>0</td>\n",
       "      <td>(36.0, 39.3]</td>\n",
       "      <td>(901.8, 1252.8]</td>\n",
       "      <td>(3.999, 10.0]</td>\n",
       "    </tr>\n",
       "  </tbody>\n",
       "</table>\n",
       "</div>"
      ],
      "text/plain": [
       "     Age     Sex Job Housing Saving accounts Checking account  Credit amount  \\\n",
       "385   25  female   2     own          little               no           2238   \n",
       "753   25  female   2     own          little               no           5771   \n",
       "261   55  female   2     own          little           little           1603   \n",
       "240   29  female   2     own              no           little            915   \n",
       "215   39  female   1     own              no         moderate            932   \n",
       "\n",
       "     Duration    Purpose  Risk       Age_bin    Credit_AMT_bin   Duration_bin  \n",
       "385        18   radio/TV     0  (23.0, 26.0]  (2217.5, 2734.0]   (12.0, 18.0]  \n",
       "753        30   radio/TV     0  (23.0, 26.0]  (4577.4, 6893.1]   (24.0, 30.0]  \n",
       "261        24   radio/TV     0  (52.1, 75.0]  (1449.7, 1832.6]   (18.0, 24.0]  \n",
       "240        24        car     1  (28.0, 30.0]   (901.8, 1252.8]   (18.0, 24.0]  \n",
       "215         6  education     0  (36.0, 39.3]   (901.8, 1252.8]  (3.999, 10.0]  "
      ]
     },
     "execution_count": 46,
     "metadata": {},
     "output_type": "execute_result"
    }
   ],
   "source": [
    "train.head()"
   ]
  },
  {
   "cell_type": "code",
   "execution_count": 47,
   "id": "bdcfff7b",
   "metadata": {},
   "outputs": [
    {
     "name": "stdout",
     "output_type": "stream",
     "text": [
      "<class 'pandas.core.frame.DataFrame'>\n",
      "Int64Index: 720 entries, 385 to 562\n",
      "Data columns (total 10 columns):\n",
      " #   Column            Non-Null Count  Dtype   \n",
      "---  ------            --------------  -----   \n",
      " 0   Sex               720 non-null    category\n",
      " 1   Job               720 non-null    category\n",
      " 2   Housing           720 non-null    category\n",
      " 3   Saving accounts   720 non-null    category\n",
      " 4   Checking account  720 non-null    category\n",
      " 5   Purpose           720 non-null    category\n",
      " 6   Age_bin           720 non-null    category\n",
      " 7   Credit_AMT_bin    720 non-null    category\n",
      " 8   Duration_bin      720 non-null    category\n",
      " 9   Risk              720 non-null    int64   \n",
      "dtypes: category(9), int64(1)\n",
      "memory usage: 19.9 KB\n"
     ]
    }
   ],
   "source": [
    "# Subset data for WoE and IV calculation\n",
    "data2 = train[['Sex', 'Job', 'Housing', 'Saving accounts', 'Checking account',\\\n",
    "              'Purpose', 'Age_bin', 'Credit_AMT_bin', 'Duration_bin', 'Risk']]\n",
    "data2.info()"
   ]
  },
  {
   "cell_type": "code",
   "execution_count": 48,
   "id": "4d360b4c",
   "metadata": {},
   "outputs": [
    {
     "name": "stderr",
     "output_type": "stream",
     "text": [
      "C:\\Users\\Latitude E7490\\AppData\\Local\\Temp\\ipykernel_808\\959460829.py:11: FutureWarning: The frame.append method is deprecated and will be removed from pandas in a future version. Use pandas.concat instead.\n",
      "  iv_df = iv_df.append({\"Variable\" :col, \"IV\" : iv,},ignore_index=True)\n",
      "C:\\Users\\Latitude E7490\\AppData\\Local\\Temp\\ipykernel_808\\959460829.py:11: FutureWarning: The frame.append method is deprecated and will be removed from pandas in a future version. Use pandas.concat instead.\n",
      "  iv_df = iv_df.append({\"Variable\" :col, \"IV\" : iv,},ignore_index=True)\n",
      "C:\\Users\\Latitude E7490\\AppData\\Local\\Temp\\ipykernel_808\\959460829.py:11: FutureWarning: The frame.append method is deprecated and will be removed from pandas in a future version. Use pandas.concat instead.\n",
      "  iv_df = iv_df.append({\"Variable\" :col, \"IV\" : iv,},ignore_index=True)\n",
      "C:\\Users\\Latitude E7490\\AppData\\Local\\Temp\\ipykernel_808\\959460829.py:11: FutureWarning: The frame.append method is deprecated and will be removed from pandas in a future version. Use pandas.concat instead.\n",
      "  iv_df = iv_df.append({\"Variable\" :col, \"IV\" : iv,},ignore_index=True)\n",
      "C:\\Users\\Latitude E7490\\AppData\\Local\\Temp\\ipykernel_808\\959460829.py:11: FutureWarning: The frame.append method is deprecated and will be removed from pandas in a future version. Use pandas.concat instead.\n",
      "  iv_df = iv_df.append({\"Variable\" :col, \"IV\" : iv,},ignore_index=True)\n",
      "C:\\Users\\Latitude E7490\\AppData\\Local\\Temp\\ipykernel_808\\959460829.py:11: FutureWarning: The frame.append method is deprecated and will be removed from pandas in a future version. Use pandas.concat instead.\n",
      "  iv_df = iv_df.append({\"Variable\" :col, \"IV\" : iv,},ignore_index=True)\n",
      "C:\\Users\\Latitude E7490\\AppData\\Local\\Temp\\ipykernel_808\\959460829.py:11: FutureWarning: The frame.append method is deprecated and will be removed from pandas in a future version. Use pandas.concat instead.\n",
      "  iv_df = iv_df.append({\"Variable\" :col, \"IV\" : iv,},ignore_index=True)\n",
      "C:\\Users\\Latitude E7490\\AppData\\Local\\Temp\\ipykernel_808\\959460829.py:11: FutureWarning: The frame.append method is deprecated and will be removed from pandas in a future version. Use pandas.concat instead.\n",
      "  iv_df = iv_df.append({\"Variable\" :col, \"IV\" : iv,},ignore_index=True)\n",
      "C:\\Users\\Latitude E7490\\AppData\\Local\\Temp\\ipykernel_808\\959460829.py:11: FutureWarning: The frame.append method is deprecated and will be removed from pandas in a future version. Use pandas.concat instead.\n",
      "  iv_df = iv_df.append({\"Variable\" :col, \"IV\" : iv,},ignore_index=True)\n"
     ]
    }
   ],
   "source": [
    "# computing WoE and IV\n",
    "woe_list = [] #Store WoE for each bins\n",
    "iv_df = pd.DataFrame(columns=['Variable','IV']) #Store IV for each feature\n",
    "\n",
    "for col in data2.columns:\n",
    "    if col == 'Risk':\n",
    "        continue\n",
    "    else:\n",
    "        df, iv = calculate_woe_iv(data2, col, 'Risk')\n",
    "    woe_list.append(df)\n",
    "    iv_df = iv_df.append({\"Variable\" :col, \"IV\" : iv,},ignore_index=True)   "
   ]
  },
  {
   "cell_type": "markdown",
   "id": "93bff1f4",
   "metadata": {},
   "source": [
    "### Feature selection"
   ]
  },
  {
   "cell_type": "code",
   "execution_count": 49,
   "id": "4f276b72",
   "metadata": {},
   "outputs": [],
   "source": [
    "# Defining threshold values for IVs\n",
    "def interpret_iv(iv):\n",
    "    if iv < 0.02:\n",
    "        return 'Useless for prediction'\n",
    "    elif iv < 0.1:\n",
    "        return 'Weak predictor'\n",
    "    elif iv < 0.3:\n",
    "        return 'Medium predictor'\n",
    "    elif iv < 0.5:\n",
    "        return 'Strong predictor'\n",
    "    else:\n",
    "        return 'Suspicious or too good predictor'"
   ]
  },
  {
   "cell_type": "code",
   "execution_count": 50,
   "id": "dd1b3a3d",
   "metadata": {},
   "outputs": [
    {
     "data": {
      "text/html": [
       "<div>\n",
       "<style scoped>\n",
       "    .dataframe tbody tr th:only-of-type {\n",
       "        vertical-align: middle;\n",
       "    }\n",
       "\n",
       "    .dataframe tbody tr th {\n",
       "        vertical-align: top;\n",
       "    }\n",
       "\n",
       "    .dataframe thead th {\n",
       "        text-align: right;\n",
       "    }\n",
       "</style>\n",
       "<table border=\"1\" class=\"dataframe\">\n",
       "  <thead>\n",
       "    <tr style=\"text-align: right;\">\n",
       "      <th></th>\n",
       "      <th>Variable</th>\n",
       "      <th>IV</th>\n",
       "    </tr>\n",
       "  </thead>\n",
       "  <tbody>\n",
       "    <tr>\n",
       "      <th>0</th>\n",
       "      <td>Sex</td>\n",
       "      <td>0.022333</td>\n",
       "    </tr>\n",
       "    <tr>\n",
       "      <th>1</th>\n",
       "      <td>Job</td>\n",
       "      <td>0.002522</td>\n",
       "    </tr>\n",
       "    <tr>\n",
       "      <th>2</th>\n",
       "      <td>Housing</td>\n",
       "      <td>0.059597</td>\n",
       "    </tr>\n",
       "    <tr>\n",
       "      <th>3</th>\n",
       "      <td>Saving accounts</td>\n",
       "      <td>0.123136</td>\n",
       "    </tr>\n",
       "    <tr>\n",
       "      <th>4</th>\n",
       "      <td>Checking account</td>\n",
       "      <td>0.683344</td>\n",
       "    </tr>\n",
       "    <tr>\n",
       "      <th>5</th>\n",
       "      <td>Purpose</td>\n",
       "      <td>0.06387</td>\n",
       "    </tr>\n",
       "    <tr>\n",
       "      <th>6</th>\n",
       "      <td>Age_bin</td>\n",
       "      <td>0.159072</td>\n",
       "    </tr>\n",
       "    <tr>\n",
       "      <th>7</th>\n",
       "      <td>Credit_AMT_bin</td>\n",
       "      <td>0.134809</td>\n",
       "    </tr>\n",
       "    <tr>\n",
       "      <th>8</th>\n",
       "      <td>Duration_bin</td>\n",
       "      <td>0.197315</td>\n",
       "    </tr>\n",
       "  </tbody>\n",
       "</table>\n",
       "</div>"
      ],
      "text/plain": [
       "           Variable        IV\n",
       "0               Sex  0.022333\n",
       "1               Job  0.002522\n",
       "2           Housing  0.059597\n",
       "3   Saving accounts  0.123136\n",
       "4  Checking account  0.683344\n",
       "5           Purpose   0.06387\n",
       "6           Age_bin  0.159072\n",
       "7    Credit_AMT_bin  0.134809\n",
       "8      Duration_bin  0.197315"
      ]
     },
     "execution_count": 50,
     "metadata": {},
     "output_type": "execute_result"
    }
   ],
   "source": [
    "iv_df"
   ]
  },
  {
   "cell_type": "code",
   "execution_count": 51,
   "id": "2092523e",
   "metadata": {},
   "outputs": [
    {
     "name": "stdout",
     "output_type": "stream",
     "text": [
      "Sex: Weak predictor\n",
      "Job: Useless for prediction\n",
      "Housing: Weak predictor\n",
      "Saving accounts: Medium predictor\n",
      "Checking account: Suspicious or too good predictor\n",
      "Purpose: Weak predictor\n",
      "Age_bin: Medium predictor\n",
      "Credit_AMT_bin: Medium predictor\n",
      "Duration_bin: Medium predictor\n"
     ]
    }
   ],
   "source": [
    "for index, row in iv_df.iterrows():\n",
    "    feature = row['Variable']\n",
    "    iv = row['IV']\n",
    "    status = interpret_iv(iv)\n",
    "    print(f\"{feature}: {status}\")"
   ]
  },
  {
   "cell_type": "code",
   "execution_count": 52,
   "id": "b19ba1d9",
   "metadata": {},
   "outputs": [
    {
     "name": "stdout",
     "output_type": "stream",
     "text": [
      "<class 'pandas.core.frame.DataFrame'>\n",
      "Int64Index: 720 entries, 385 to 562\n",
      "Data columns (total 6 columns):\n",
      " #   Column            Non-Null Count  Dtype   \n",
      "---  ------            --------------  -----   \n",
      " 0   Saving accounts   720 non-null    category\n",
      " 1   Checking account  720 non-null    category\n",
      " 2   Age_bin           720 non-null    category\n",
      " 3   Credit_AMT_bin    720 non-null    category\n",
      " 4   Duration_bin      720 non-null    category\n",
      " 5   Risk              720 non-null    int64   \n",
      "dtypes: category(5), int64(1)\n",
      "memory usage: 16.3 KB\n"
     ]
    }
   ],
   "source": [
    "# Feature selection\n",
    "data3 = train[['Saving accounts', 'Checking account', 'Age_bin', 'Credit_AMT_bin', 'Duration_bin', 'Risk']]\n",
    "data3.info()"
   ]
  },
  {
   "cell_type": "markdown",
   "id": "525c85e6",
   "metadata": {},
   "source": [
    "### Replace bins and categorical variables by WoE values"
   ]
  },
  {
   "cell_type": "code",
   "execution_count": 53,
   "id": "4342b12a",
   "metadata": {},
   "outputs": [],
   "source": [
    "# for df, (index, row) in zip(woe_list, iv_df.iterrows()):\n",
    "#     print(df, (index, row))"
   ]
  },
  {
   "cell_type": "code",
   "execution_count": 54,
   "id": "1ea91956",
   "metadata": {},
   "outputs": [],
   "source": [
    "saving_acc_dict = dict(zip(woe_list[3]['Value'],woe_list[3]['WoE']))\n",
    "checking_acc_dict = dict(zip(woe_list[4]['Value'],woe_list[4]['WoE']))\n",
    "age_bin_dict = dict(zip(woe_list[6]['Value'],woe_list[6]['WoE']))\n",
    "credit_amt_bin_dict = dict(zip(woe_list[7]['Value'],woe_list[7]['WoE']))\n",
    "duration_bin_dict = dict(zip(woe_list[8]['Value'],woe_list[8]['WoE']))\n",
    "# age_bin_dict = woe_list[6][['Value', 'WoE']].set_index('Value').to_dict()\n",
    "# age_bin_dict"
   ]
  },
  {
   "cell_type": "code",
   "execution_count": 55,
   "id": "e1d69ba7",
   "metadata": {},
   "outputs": [
    {
     "name": "stderr",
     "output_type": "stream",
     "text": [
      "C:\\Users\\Latitude E7490\\AppData\\Local\\Temp\\ipykernel_808\\3719643556.py:3: SettingWithCopyWarning: \n",
      "A value is trying to be set on a copy of a slice from a DataFrame.\n",
      "Try using .loc[row_indexer,col_indexer] = value instead\n",
      "\n",
      "See the caveats in the documentation: https://pandas.pydata.org/pandas-docs/stable/user_guide/indexing.html#returning-a-view-versus-a-copy\n",
      "  data3.replace({'Saving accounts': saving_acc_dict}, inplace=True)\n",
      "C:\\Users\\Latitude E7490\\AppData\\Local\\Temp\\ipykernel_808\\3719643556.py:4: SettingWithCopyWarning: \n",
      "A value is trying to be set on a copy of a slice from a DataFrame.\n",
      "Try using .loc[row_indexer,col_indexer] = value instead\n",
      "\n",
      "See the caveats in the documentation: https://pandas.pydata.org/pandas-docs/stable/user_guide/indexing.html#returning-a-view-versus-a-copy\n",
      "  data3.replace({'Checking account': checking_acc_dict}, inplace=True)\n",
      "C:\\Users\\Latitude E7490\\AppData\\Local\\Temp\\ipykernel_808\\3719643556.py:5: SettingWithCopyWarning: \n",
      "A value is trying to be set on a copy of a slice from a DataFrame.\n",
      "Try using .loc[row_indexer,col_indexer] = value instead\n",
      "\n",
      "See the caveats in the documentation: https://pandas.pydata.org/pandas-docs/stable/user_guide/indexing.html#returning-a-view-versus-a-copy\n",
      "  data3.replace({'Credit_AMT_bin': credit_amt_bin_dict}, inplace=True)\n",
      "C:\\Users\\Latitude E7490\\AppData\\Local\\Temp\\ipykernel_808\\3719643556.py:6: SettingWithCopyWarning: \n",
      "A value is trying to be set on a copy of a slice from a DataFrame.\n",
      "Try using .loc[row_indexer,col_indexer] = value instead\n",
      "\n",
      "See the caveats in the documentation: https://pandas.pydata.org/pandas-docs/stable/user_guide/indexing.html#returning-a-view-versus-a-copy\n",
      "  data3.replace({'Duration_bin': duration_bin_dict}, inplace=True)\n",
      "C:\\Users\\Latitude E7490\\AppData\\Local\\Temp\\ipykernel_808\\3719643556.py:7: SettingWithCopyWarning: \n",
      "A value is trying to be set on a copy of a slice from a DataFrame.\n",
      "Try using .loc[row_indexer,col_indexer] = value instead\n",
      "\n",
      "See the caveats in the documentation: https://pandas.pydata.org/pandas-docs/stable/user_guide/indexing.html#returning-a-view-versus-a-copy\n",
      "  data3.replace({'Age_bin': age_bin_dict}, inplace=True)\n"
     ]
    },
    {
     "data": {
      "text/html": [
       "<div>\n",
       "<style scoped>\n",
       "    .dataframe tbody tr th:only-of-type {\n",
       "        vertical-align: middle;\n",
       "    }\n",
       "\n",
       "    .dataframe tbody tr th {\n",
       "        vertical-align: top;\n",
       "    }\n",
       "\n",
       "    .dataframe thead th {\n",
       "        text-align: right;\n",
       "    }\n",
       "</style>\n",
       "<table border=\"1\" class=\"dataframe\">\n",
       "  <thead>\n",
       "    <tr style=\"text-align: right;\">\n",
       "      <th></th>\n",
       "      <th>Saving accounts</th>\n",
       "      <th>Checking account</th>\n",
       "      <th>Age_bin</th>\n",
       "      <th>Credit_AMT_bin</th>\n",
       "      <th>Duration_bin</th>\n",
       "      <th>Risk</th>\n",
       "    </tr>\n",
       "  </thead>\n",
       "  <tbody>\n",
       "    <tr>\n",
       "      <th>385</th>\n",
       "      <td>-0.180042</td>\n",
       "      <td>1.220675</td>\n",
       "      <td>-0.467606</td>\n",
       "      <td>-0.086576</td>\n",
       "      <td>-0.099341</td>\n",
       "      <td>0</td>\n",
       "    </tr>\n",
       "    <tr>\n",
       "      <th>753</th>\n",
       "      <td>-0.180042</td>\n",
       "      <td>1.220675</td>\n",
       "      <td>-0.467606</td>\n",
       "      <td>-0.396731</td>\n",
       "      <td>-0.173588</td>\n",
       "      <td>0</td>\n",
       "    </tr>\n",
       "    <tr>\n",
       "      <th>261</th>\n",
       "      <td>-0.180042</td>\n",
       "      <td>-0.750371</td>\n",
       "      <td>0.266563</td>\n",
       "      <td>0.427444</td>\n",
       "      <td>0.061844</td>\n",
       "      <td>0</td>\n",
       "    </tr>\n",
       "    <tr>\n",
       "      <th>240</th>\n",
       "      <td>0.431335</td>\n",
       "      <td>-0.750371</td>\n",
       "      <td>-0.239728</td>\n",
       "      <td>0.047954</td>\n",
       "      <td>0.061844</td>\n",
       "      <td>1</td>\n",
       "    </tr>\n",
       "    <tr>\n",
       "      <th>215</th>\n",
       "      <td>0.431335</td>\n",
       "      <td>-0.488486</td>\n",
       "      <td>0.478737</td>\n",
       "      <td>0.047954</td>\n",
       "      <td>0.832909</td>\n",
       "      <td>0</td>\n",
       "    </tr>\n",
       "    <tr>\n",
       "      <th>...</th>\n",
       "      <td>...</td>\n",
       "      <td>...</td>\n",
       "      <td>...</td>\n",
       "      <td>...</td>\n",
       "      <td>...</td>\n",
       "      <td>...</td>\n",
       "    </tr>\n",
       "    <tr>\n",
       "      <th>113</th>\n",
       "      <td>-0.180042</td>\n",
       "      <td>1.220675</td>\n",
       "      <td>-0.467606</td>\n",
       "      <td>-0.627972</td>\n",
       "      <td>-0.721840</td>\n",
       "      <td>1</td>\n",
       "    </tr>\n",
       "    <tr>\n",
       "      <th>359</th>\n",
       "      <td>-0.180042</td>\n",
       "      <td>-0.750371</td>\n",
       "      <td>-0.557355</td>\n",
       "      <td>-0.086576</td>\n",
       "      <td>-0.173588</td>\n",
       "      <td>1</td>\n",
       "    </tr>\n",
       "    <tr>\n",
       "      <th>427</th>\n",
       "      <td>1.171884</td>\n",
       "      <td>1.220675</td>\n",
       "      <td>0.385211</td>\n",
       "      <td>0.047954</td>\n",
       "      <td>-0.099341</td>\n",
       "      <td>0</td>\n",
       "    </tr>\n",
       "    <tr>\n",
       "      <th>409</th>\n",
       "      <td>0.539362</td>\n",
       "      <td>0.478737</td>\n",
       "      <td>0.065892</td>\n",
       "      <td>0.047954</td>\n",
       "      <td>0.051700</td>\n",
       "      <td>1</td>\n",
       "    </tr>\n",
       "    <tr>\n",
       "      <th>562</th>\n",
       "      <td>-0.180042</td>\n",
       "      <td>0.478737</td>\n",
       "      <td>-0.239728</td>\n",
       "      <td>-0.086576</td>\n",
       "      <td>0.832909</td>\n",
       "      <td>0</td>\n",
       "    </tr>\n",
       "  </tbody>\n",
       "</table>\n",
       "<p>720 rows × 6 columns</p>\n",
       "</div>"
      ],
      "text/plain": [
       "    Saving accounts Checking account   Age_bin Credit_AMT_bin Duration_bin  \\\n",
       "385       -0.180042         1.220675 -0.467606      -0.086576    -0.099341   \n",
       "753       -0.180042         1.220675 -0.467606      -0.396731    -0.173588   \n",
       "261       -0.180042        -0.750371  0.266563       0.427444     0.061844   \n",
       "240        0.431335        -0.750371 -0.239728       0.047954     0.061844   \n",
       "215        0.431335        -0.488486  0.478737       0.047954     0.832909   \n",
       "..              ...              ...       ...            ...          ...   \n",
       "113       -0.180042         1.220675 -0.467606      -0.627972    -0.721840   \n",
       "359       -0.180042        -0.750371 -0.557355      -0.086576    -0.173588   \n",
       "427        1.171884         1.220675  0.385211       0.047954    -0.099341   \n",
       "409        0.539362         0.478737  0.065892       0.047954     0.051700   \n",
       "562       -0.180042         0.478737 -0.239728      -0.086576     0.832909   \n",
       "\n",
       "     Risk  \n",
       "385     0  \n",
       "753     0  \n",
       "261     0  \n",
       "240     1  \n",
       "215     0  \n",
       "..    ...  \n",
       "113     1  \n",
       "359     1  \n",
       "427     0  \n",
       "409     1  \n",
       "562     0  \n",
       "\n",
       "[720 rows x 6 columns]"
      ]
     },
     "execution_count": 55,
     "metadata": {},
     "output_type": "execute_result"
    }
   ],
   "source": [
    "# data3['Age_bin'] = data3['Age_bin'].astype(str) #Convert datatype to 'string'\n",
    "# data3['Age_bin'] = data3['Age_bin'].replace(age_bin_dict, inplace = True)\n",
    "data3.replace({'Saving accounts': saving_acc_dict}, inplace=True)\n",
    "data3.replace({'Checking account': checking_acc_dict}, inplace=True)\n",
    "data3.replace({'Credit_AMT_bin': credit_amt_bin_dict}, inplace=True)\n",
    "data3.replace({'Duration_bin': duration_bin_dict}, inplace=True)\n",
    "data3.replace({'Age_bin': age_bin_dict}, inplace=True)\n",
    "data3"
   ]
  },
  {
   "cell_type": "code",
   "execution_count": 56,
   "id": "de3637f1",
   "metadata": {},
   "outputs": [
    {
     "name": "stdout",
     "output_type": "stream",
     "text": [
      "IntervalIndex([(249.999, 901.8], (901.8, 1252.8], (1252.8, 1449.7], (1449.7, 1832.6], (1832.6, 2217.5], (2217.5, 2734.0], (2734.0, 3433.3], (3433.3, 4577.4], (4577.4, 6893.1], (6893.1, 14896.0]], dtype='interval[float64, right]')\n"
     ]
    }
   ],
   "source": [
    "# train['Age_bin']= pd.qcut(train['Age'], 10)\n",
    "# train['Credit_AMT_bin']= pd.qcut(train['Credit amount'], 10)\n",
    "# train['Duration_bin']= pd.qcut(train['Duration'], 6)\n",
    "bin_edges_age = train['Age_bin'].cat.categories\n",
    "bin_edges_credit_amt = train['Credit_AMT_bin'].cat.categories\n",
    "bin_edges_duration = train['Duration_bin'].cat.categories\n",
    "\n",
    "print(bin_edges_credit_amt)"
   ]
  },
  {
   "cell_type": "code",
   "execution_count": 57,
   "id": "1252fedd",
   "metadata": {},
   "outputs": [
    {
     "data": {
      "text/html": [
       "<div>\n",
       "<style scoped>\n",
       "    .dataframe tbody tr th:only-of-type {\n",
       "        vertical-align: middle;\n",
       "    }\n",
       "\n",
       "    .dataframe tbody tr th {\n",
       "        vertical-align: top;\n",
       "    }\n",
       "\n",
       "    .dataframe thead th {\n",
       "        text-align: right;\n",
       "    }\n",
       "</style>\n",
       "<table border=\"1\" class=\"dataframe\">\n",
       "  <thead>\n",
       "    <tr style=\"text-align: right;\">\n",
       "      <th></th>\n",
       "      <th>Age</th>\n",
       "      <th>Sex</th>\n",
       "      <th>Job</th>\n",
       "      <th>Housing</th>\n",
       "      <th>Saving accounts</th>\n",
       "      <th>Checking account</th>\n",
       "      <th>Credit amount</th>\n",
       "      <th>Duration</th>\n",
       "      <th>Purpose</th>\n",
       "      <th>Risk</th>\n",
       "      <th>Age_bin</th>\n",
       "      <th>Credit_AMT_bin</th>\n",
       "      <th>Duration_bin</th>\n",
       "    </tr>\n",
       "  </thead>\n",
       "  <tbody>\n",
       "    <tr>\n",
       "      <th>681</th>\n",
       "      <td>37</td>\n",
       "      <td>male</td>\n",
       "      <td>2</td>\n",
       "      <td>free</td>\n",
       "      <td>no</td>\n",
       "      <td>no</td>\n",
       "      <td>2279</td>\n",
       "      <td>12</td>\n",
       "      <td>radio/TV</td>\n",
       "      <td>0</td>\n",
       "      <td>(36.0, 39.3]</td>\n",
       "      <td>(2217.5, 2734.0]</td>\n",
       "      <td>(10.0, 12.0]</td>\n",
       "    </tr>\n",
       "    <tr>\n",
       "      <th>578</th>\n",
       "      <td>27</td>\n",
       "      <td>male</td>\n",
       "      <td>2</td>\n",
       "      <td>own</td>\n",
       "      <td>little</td>\n",
       "      <td>moderate</td>\n",
       "      <td>2820</td>\n",
       "      <td>36</td>\n",
       "      <td>car</td>\n",
       "      <td>1</td>\n",
       "      <td>(26.0, 28.0]</td>\n",
       "      <td>(2734.0, 3433.3]</td>\n",
       "      <td>(30.0, 72.0]</td>\n",
       "    </tr>\n",
       "    <tr>\n",
       "      <th>766</th>\n",
       "      <td>31</td>\n",
       "      <td>male</td>\n",
       "      <td>1</td>\n",
       "      <td>own</td>\n",
       "      <td>little</td>\n",
       "      <td>little</td>\n",
       "      <td>3108</td>\n",
       "      <td>30</td>\n",
       "      <td>furniture/equipment</td>\n",
       "      <td>1</td>\n",
       "      <td>(30.0, 33.0]</td>\n",
       "      <td>(2734.0, 3433.3]</td>\n",
       "      <td>(24.0, 30.0]</td>\n",
       "    </tr>\n",
       "    <tr>\n",
       "      <th>508</th>\n",
       "      <td>28</td>\n",
       "      <td>male</td>\n",
       "      <td>2</td>\n",
       "      <td>own</td>\n",
       "      <td>little</td>\n",
       "      <td>no</td>\n",
       "      <td>1413</td>\n",
       "      <td>24</td>\n",
       "      <td>radio/TV</td>\n",
       "      <td>0</td>\n",
       "      <td>(26.0, 28.0]</td>\n",
       "      <td>(1252.8, 1449.7]</td>\n",
       "      <td>(18.0, 24.0]</td>\n",
       "    </tr>\n",
       "    <tr>\n",
       "      <th>98</th>\n",
       "      <td>36</td>\n",
       "      <td>male</td>\n",
       "      <td>2</td>\n",
       "      <td>own</td>\n",
       "      <td>little</td>\n",
       "      <td>moderate</td>\n",
       "      <td>2337</td>\n",
       "      <td>36</td>\n",
       "      <td>radio/TV</td>\n",
       "      <td>0</td>\n",
       "      <td>(33.0, 36.0]</td>\n",
       "      <td>(2217.5, 2734.0]</td>\n",
       "      <td>(30.0, 72.0]</td>\n",
       "    </tr>\n",
       "  </tbody>\n",
       "</table>\n",
       "</div>"
      ],
      "text/plain": [
       "     Age   Sex Job Housing Saving accounts Checking account  Credit amount  \\\n",
       "681   37  male   2    free              no               no           2279   \n",
       "578   27  male   2     own          little         moderate           2820   \n",
       "766   31  male   1     own          little           little           3108   \n",
       "508   28  male   2     own          little               no           1413   \n",
       "98    36  male   2     own          little         moderate           2337   \n",
       "\n",
       "     Duration              Purpose  Risk       Age_bin    Credit_AMT_bin  \\\n",
       "681        12             radio/TV     0  (36.0, 39.3]  (2217.5, 2734.0]   \n",
       "578        36                  car     1  (26.0, 28.0]  (2734.0, 3433.3]   \n",
       "766        30  furniture/equipment     1  (30.0, 33.0]  (2734.0, 3433.3]   \n",
       "508        24             radio/TV     0  (26.0, 28.0]  (1252.8, 1449.7]   \n",
       "98         36             radio/TV     0  (33.0, 36.0]  (2217.5, 2734.0]   \n",
       "\n",
       "     Duration_bin  \n",
       "681  (10.0, 12.0]  \n",
       "578  (30.0, 72.0]  \n",
       "766  (24.0, 30.0]  \n",
       "508  (18.0, 24.0]  \n",
       "98   (30.0, 72.0]  "
      ]
     },
     "execution_count": 57,
     "metadata": {},
     "output_type": "execute_result"
    }
   ],
   "source": [
    "test['Age_bin'] = pd.cut(test['Age'], bins=bin_edges_age)\n",
    "test['Credit_AMT_bin'] = pd.cut(test['Credit amount'], bins=bin_edges_credit_amt)\n",
    "test['Duration_bin'] = pd.cut(test['Duration'], bins=bin_edges_duration)\n",
    "\n",
    "test.head()"
   ]
  },
  {
   "cell_type": "code",
   "execution_count": 58,
   "id": "15b13505",
   "metadata": {},
   "outputs": [
    {
     "data": {
      "text/html": [
       "<div>\n",
       "<style scoped>\n",
       "    .dataframe tbody tr th:only-of-type {\n",
       "        vertical-align: middle;\n",
       "    }\n",
       "\n",
       "    .dataframe tbody tr th {\n",
       "        vertical-align: top;\n",
       "    }\n",
       "\n",
       "    .dataframe thead th {\n",
       "        text-align: right;\n",
       "    }\n",
       "</style>\n",
       "<table border=\"1\" class=\"dataframe\">\n",
       "  <thead>\n",
       "    <tr style=\"text-align: right;\">\n",
       "      <th></th>\n",
       "      <th>Age</th>\n",
       "      <th>Sex</th>\n",
       "      <th>Job</th>\n",
       "      <th>Housing</th>\n",
       "      <th>Saving accounts</th>\n",
       "      <th>Checking account</th>\n",
       "      <th>Credit amount</th>\n",
       "      <th>Duration</th>\n",
       "      <th>Purpose</th>\n",
       "      <th>Risk</th>\n",
       "      <th>Age_bin</th>\n",
       "      <th>Credit_AMT_bin</th>\n",
       "      <th>Duration_bin</th>\n",
       "    </tr>\n",
       "  </thead>\n",
       "  <tbody>\n",
       "    <tr>\n",
       "      <th>681</th>\n",
       "      <td>37</td>\n",
       "      <td>male</td>\n",
       "      <td>2</td>\n",
       "      <td>free</td>\n",
       "      <td>0.431335</td>\n",
       "      <td>1.220675</td>\n",
       "      <td>2279</td>\n",
       "      <td>12</td>\n",
       "      <td>radio/TV</td>\n",
       "      <td>0</td>\n",
       "      <td>0.478737</td>\n",
       "      <td>-0.086576</td>\n",
       "      <td>0.051700</td>\n",
       "    </tr>\n",
       "    <tr>\n",
       "      <th>578</th>\n",
       "      <td>27</td>\n",
       "      <td>male</td>\n",
       "      <td>2</td>\n",
       "      <td>own</td>\n",
       "      <td>-0.180042</td>\n",
       "      <td>-0.488486</td>\n",
       "      <td>2820</td>\n",
       "      <td>36</td>\n",
       "      <td>car</td>\n",
       "      <td>1</td>\n",
       "      <td>0.065892</td>\n",
       "      <td>0.513829</td>\n",
       "      <td>-0.721840</td>\n",
       "    </tr>\n",
       "    <tr>\n",
       "      <th>766</th>\n",
       "      <td>31</td>\n",
       "      <td>male</td>\n",
       "      <td>1</td>\n",
       "      <td>own</td>\n",
       "      <td>-0.180042</td>\n",
       "      <td>-0.750371</td>\n",
       "      <td>3108</td>\n",
       "      <td>30</td>\n",
       "      <td>furniture/equipment</td>\n",
       "      <td>1</td>\n",
       "      <td>-0.193791</td>\n",
       "      <td>0.513829</td>\n",
       "      <td>-0.173588</td>\n",
       "    </tr>\n",
       "    <tr>\n",
       "      <th>508</th>\n",
       "      <td>28</td>\n",
       "      <td>male</td>\n",
       "      <td>2</td>\n",
       "      <td>own</td>\n",
       "      <td>-0.180042</td>\n",
       "      <td>1.220675</td>\n",
       "      <td>1413</td>\n",
       "      <td>24</td>\n",
       "      <td>radio/TV</td>\n",
       "      <td>0</td>\n",
       "      <td>0.065892</td>\n",
       "      <td>-0.086576</td>\n",
       "      <td>0.061844</td>\n",
       "    </tr>\n",
       "    <tr>\n",
       "      <th>98</th>\n",
       "      <td>36</td>\n",
       "      <td>male</td>\n",
       "      <td>2</td>\n",
       "      <td>own</td>\n",
       "      <td>-0.180042</td>\n",
       "      <td>-0.488486</td>\n",
       "      <td>2337</td>\n",
       "      <td>36</td>\n",
       "      <td>radio/TV</td>\n",
       "      <td>0</td>\n",
       "      <td>0.701881</td>\n",
       "      <td>-0.086576</td>\n",
       "      <td>-0.721840</td>\n",
       "    </tr>\n",
       "  </tbody>\n",
       "</table>\n",
       "</div>"
      ],
      "text/plain": [
       "     Age   Sex Job Housing Saving accounts Checking account  Credit amount  \\\n",
       "681   37  male   2    free        0.431335         1.220675           2279   \n",
       "578   27  male   2     own       -0.180042        -0.488486           2820   \n",
       "766   31  male   1     own       -0.180042        -0.750371           3108   \n",
       "508   28  male   2     own       -0.180042         1.220675           1413   \n",
       "98    36  male   2     own       -0.180042        -0.488486           2337   \n",
       "\n",
       "     Duration              Purpose  Risk   Age_bin Credit_AMT_bin Duration_bin  \n",
       "681        12             radio/TV     0  0.478737      -0.086576     0.051700  \n",
       "578        36                  car     1  0.065892       0.513829    -0.721840  \n",
       "766        30  furniture/equipment     1 -0.193791       0.513829    -0.173588  \n",
       "508        24             radio/TV     0  0.065892      -0.086576     0.061844  \n",
       "98         36             radio/TV     0  0.701881      -0.086576    -0.721840  "
      ]
     },
     "execution_count": 58,
     "metadata": {},
     "output_type": "execute_result"
    }
   ],
   "source": [
    "test.replace({'Saving accounts': saving_acc_dict}, inplace=True)\n",
    "test.replace({'Checking account': checking_acc_dict}, inplace=True)\n",
    "test.replace({'Credit_AMT_bin': credit_amt_bin_dict}, inplace=True)\n",
    "test.replace({'Duration_bin': duration_bin_dict}, inplace=True)\n",
    "test.replace({'Age_bin': age_bin_dict}, inplace=True)\n",
    "test.head()"
   ]
  },
  {
   "cell_type": "code",
   "execution_count": 59,
   "id": "53416c83",
   "metadata": {},
   "outputs": [],
   "source": [
    "test = test[['Saving accounts', 'Checking account', 'Age_bin', 'Credit_AMT_bin', 'Duration_bin', 'Risk']]"
   ]
  },
  {
   "cell_type": "markdown",
   "id": "44ccf544",
   "metadata": {},
   "source": [
    "### Logistic Regression with WoE"
   ]
  },
  {
   "cell_type": "code",
   "execution_count": 60,
   "id": "d8fde7f2",
   "metadata": {},
   "outputs": [
    {
     "name": "stderr",
     "output_type": "stream",
     "text": [
      "C:\\Users\\Latitude E7490\\AppData\\Local\\Temp\\ipykernel_808\\2594282783.py:2: FutureWarning: In a future version of pandas all arguments of DataFrame.drop except for the argument 'labels' will be keyword-only.\n",
      "  X_train = data3.drop('Risk', 1).values\n",
      "C:\\Users\\Latitude E7490\\AppData\\Local\\Temp\\ipykernel_808\\2594282783.py:4: FutureWarning: In a future version of pandas all arguments of DataFrame.drop except for the argument 'labels' will be keyword-only.\n",
      "  X_test = test.drop('Risk', 1).values\n"
     ]
    }
   ],
   "source": [
    "#Creating X,y\n",
    "X_train = data3.drop('Risk', 1).values\n",
    "y_train = data3['Risk'].values\n",
    "X_test = test.drop('Risk', 1).values\n",
    "y_test = test['Risk'].values\n"
   ]
  },
  {
   "cell_type": "code",
   "execution_count": 61,
   "id": "0bd6509f",
   "metadata": {},
   "outputs": [
    {
     "name": "stdout",
     "output_type": "stream",
     "text": [
      "Train Data:\n",
      "(720, 5)\n",
      "Test Data:\n",
      "(180, 5)\n"
     ]
    }
   ],
   "source": [
    "print('Train Data:')\n",
    "print(X_train.shape)\n",
    "print('Test Data:')\n",
    "print(X_test.shape)"
   ]
  },
  {
   "cell_type": "code",
   "execution_count": 62,
   "id": "799a4f91",
   "metadata": {},
   "outputs": [
    {
     "name": "stdout",
     "output_type": "stream",
     "text": [
      "Accuracy: 75.0%\n",
      "Recall: 0.6346806105144149\n",
      "Gini Coefficient: 0.6264838892029396\n",
      "Cross-Validation ROC-AUC Scores: [0.73916647 0.73739048 0.77669903 0.77497666 0.79166667]\n",
      "Average Cross-Validation Gini Coefficient: 0.5279597212631993\n"
     ]
    }
   ],
   "source": [
    "# Initialize logistic regression model with 'sag' solver\n",
    "lr_model = LogisticRegression(max_iter=1000,random_state=0)\n",
    "\n",
    "# Train the model\n",
    "lr_model.fit(X_train, y_train)\n",
    "\n",
    "# Perform cross-validation\n",
    "cv_scores = cross_val_score(lr_model, X_train, y_train, cv=5, scoring='roc_auc')\n",
    "\n",
    "# Predictions\n",
    "y_pred = lr_model.predict(X_test)\n",
    "y_pred_proba = lr_model.predict_proba(X_test)[:, 1]\n",
    "\n",
    "#Evaluation metrics\n",
    "accuracy = accuracy_score(y_test, y_pred)\n",
    "recall = recall_score(y_test, y_pred, average = 'macro')\n",
    "gini_score = 2 * roc_auc_score(y_test, y_pred_proba) - 1\n",
    "\n",
    "print(f\"Accuracy: {accuracy * 100.0}%\")\n",
    "print(f\"Recall: {recall}\")\n",
    "print(f\"Gini Coefficient: {gini_score}\")\n",
    "\n",
    "print(f\"Cross-Validation ROC-AUC Scores: {cv_scores}\")\n",
    "print(f\"Average Cross-Validation Gini Coefficient: {np.mean(2*cv_scores-1)}\")"
   ]
  },
  {
   "cell_type": "markdown",
   "id": "2778caf5",
   "metadata": {},
   "source": [
    "### Compare to other models"
   ]
  },
  {
   "cell_type": "code",
   "execution_count": 63,
   "id": "c4249ad1",
   "metadata": {},
   "outputs": [
    {
     "name": "stdout",
     "output_type": "stream",
     "text": [
      "----------\n",
      "LR\n",
      "Accuracy: 75.0%\n",
      "Recall: 0.6346806105144149\n",
      "Gini Coefficient: 0.6264838892029396\n",
      "Cross-Validation ROC-AUC Scores: [0.73916647 0.73739048 0.77669903 0.77497666 0.79166667]\n",
      "Average Cross-Validation Gini Coefficient: 0.5279597212631993\n",
      "----------\n",
      "LDA\n",
      "Accuracy: 76.66666666666667%\n",
      "Recall: 0.6605426794799322\n",
      "Gini Coefficient: 0.6129169022046355\n",
      "Cross-Validation ROC-AUC Scores: [0.74082406 0.73336491 0.77717263 0.77497666 0.79516807]\n",
      "Average Cross-Validation Gini Coefficient: 0.5286025263369221\n",
      "----------\n",
      "KNN\n",
      "Accuracy: 73.88888888888889%\n",
      "Recall: 0.6536178631995477\n",
      "Gini Coefficient: 0.4520915771622387\n",
      "Cross-Validation ROC-AUC Scores: [0.67913805 0.65901018 0.74780961 0.64869281 0.78256303]\n",
      "Average Cross-Validation Gini Coefficient: 0.4068854742149445\n",
      "----------\n",
      "DT\n",
      "Accuracy: 72.77777777777777%\n",
      "Recall: 0.6680327868852459\n",
      "Gini Coefficient: 0.3890616167326175\n",
      "Cross-Validation ROC-AUC Scores: [0.53776936 0.54203173 0.58808904 0.56442577 0.59103641]\n",
      "Average Cross-Validation Gini Coefficient: 0.12934092415085857\n",
      "----------\n",
      "NB\n",
      "Accuracy: 75.55555555555556%\n",
      "Recall: 0.7156585641605426\n",
      "Gini Coefficient: 0.6366591294516675\n",
      "Cross-Validation ROC-AUC Scores: [0.73348331 0.72247218 0.77575184 0.77217554 0.77205882]\n",
      "Average Cross-Validation Gini Coefficient: 0.5103766709936006\n",
      "----------\n",
      "RF\n",
      "Accuracy: 72.77777777777777%\n",
      "Recall: 0.6454211418880723\n",
      "Gini Coefficient: 0.4899660825325043\n",
      "Cross-Validation ROC-AUC Scores: [0.63793512 0.64290789 0.63083116 0.69035948 0.72514006]\n",
      "Average Cross-Validation Gini Coefficient: 0.33086947937277367\n",
      "----------\n",
      "SVM\n",
      "Accuracy: 71.66666666666667%\n",
      "Recall: 0.5965234595816846\n",
      "Gini Coefficient: 0.43131712832108526\n",
      "Cross-Validation ROC-AUC Scores: [0.74271845 0.68624201 0.7811982  0.74136321 0.74241363]\n",
      "Average Cross-Validation Gini Coefficient: 0.4775741996222279\n",
      "----------\n",
      "XGB\n",
      "Accuracy: 75.55555555555556%\n",
      "Recall: 0.6885245901639344\n",
      "Gini Coefficient: 0.4342849067269643\n",
      "Cross-Validation ROC-AUC Scores: [0.58903623 0.63177836 0.64764386 0.68650794 0.6931606 ]\n",
      "Average Cross-Validation Gini Coefficient: 0.2992507903785083\n"
     ]
    }
   ],
   "source": [
    "# prepare models\n",
    "models = []\n",
    "models.append(('LR', LogisticRegression()))\n",
    "models.append(('LDA', LinearDiscriminantAnalysis()))\n",
    "models.append(('KNN', KNeighborsClassifier()))\n",
    "models.append(('DT', DecisionTreeClassifier()))\n",
    "models.append(('NB', GaussianNB()))\n",
    "models.append(('RF', RandomForestClassifier()))\n",
    "models.append(('SVM', SVC(gamma='auto', probability=True)))\n",
    "models.append(('XGB', XGBClassifier()))\n",
    "\n",
    "for name, model in models:\n",
    "    model = model\n",
    "    # Train the model\n",
    "    model.fit(X_train, y_train)\n",
    "    \n",
    "    # Perform cross-validation\n",
    "    cv_scores = cross_val_score(model, X_train, y_train, cv=5, scoring='roc_auc')\n",
    "\n",
    "    # Predictions\n",
    "    y_pred = model.predict(X_test)\n",
    "    y_pred_proba = model.predict_proba(X_test)[:, 1]\n",
    "\n",
    "    #Evaluation metrics\n",
    "    accuracy = accuracy_score(y_test, y_pred)\n",
    "    recall = recall_score(y_test, y_pred, average = 'macro')\n",
    "    gini_score = 2 * roc_auc_score(y_test, y_pred_proba) - 1\n",
    "    \n",
    "    print(\"-\" * 10)\n",
    "    print(name)\n",
    "    print(f\"Accuracy: {accuracy * 100.0}%\")\n",
    "    print(f\"Recall: {recall}\")\n",
    "    print(f\"Gini Coefficient: {gini_score}\")\n",
    "    print(f\"Cross-Validation ROC-AUC Scores: {cv_scores}\")\n",
    "    print(f\"Average Cross-Validation Gini Coefficient: {np.mean(2*cv_scores-1)}\")"
   ]
  },
  {
   "cell_type": "code",
   "execution_count": 64,
   "id": "9311f605",
   "metadata": {},
   "outputs": [],
   "source": []
  },
  {
   "cell_type": "code",
   "execution_count": null,
   "id": "e5f2f8ff",
   "metadata": {},
   "outputs": [],
   "source": []
  }
 ],
 "metadata": {
  "kernelspec": {
   "display_name": "Python 3 (ipykernel)",
   "language": "python",
   "name": "python3"
  },
  "language_info": {
   "codemirror_mode": {
    "name": "ipython",
    "version": 3
   },
   "file_extension": ".py",
   "mimetype": "text/x-python",
   "name": "python",
   "nbconvert_exporter": "python",
   "pygments_lexer": "ipython3",
   "version": "3.9.12"
  }
 },
 "nbformat": 4,
 "nbformat_minor": 5
}
